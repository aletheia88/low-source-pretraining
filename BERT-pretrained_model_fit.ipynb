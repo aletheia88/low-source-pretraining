{
 "cells": [
  {
   "cell_type": "code",
   "execution_count": 22,
   "metadata": {},
   "outputs": [],
   "source": [
    "from utils import *\n",
    "import numpy as np\n",
    "import matplotlib.pyplot as plt"
   ]
  },
  {
   "cell_type": "code",
   "execution_count": 23,
   "metadata": {},
   "outputs": [],
   "source": [
    "f_name = 'train_val_data.csv'\n",
    "token_dict = get_token_freq(f_name)"
   ]
  },
  {
   "cell_type": "code",
   "execution_count": 24,
   "metadata": {},
   "outputs": [
    {
     "data": {
      "text/plain": [
       "{'x33': 4504,\n",
       " 'x41': 4212,\n",
       " 'x160': 4716,\n",
       " 'x195': 6819,\n",
       " 'x150': 6239,\n",
       " 'x51': 4174,\n",
       " 'x122': 4288,\n",
       " 'x18': 2701,\n",
       " 'x154': 2889,\n",
       " 'x80': 2466,\n",
       " 'x183': 746,\n",
       " 'x134': 814,\n",
       " 'x155': 701,\n",
       " 'x5': 2387,\n",
       " 'x206': 9981,\n",
       " 'x188': 8060,\n",
       " 'x24': 9302,\n",
       " 'x1': 3664,\n",
       " 'x141': 5389,\n",
       " 'x149': 5778,\n",
       " 'x91': 3827,\n",
       " 'x211': 1782,\n",
       " 'x76': 1801,\n",
       " 'x193': 1086,\n",
       " 'x213': 594,\n",
       " 'x37': 983,\n",
       " 'x16': 6708,\n",
       " 'x158': 1649,\n",
       " 'x64': 6497,\n",
       " 'x62': 1348,\n",
       " 'x38': 1775,\n",
       " 'x205': 3112,\n",
       " 'x88': 8509,\n",
       " 'x176': 5984,\n",
       " 'x19': 12640,\n",
       " 'x223': 4593,\n",
       " 'x6': 6088,\n",
       " 'x81': 2968,\n",
       " 'x56': 608,\n",
       " 'x142': 5508,\n",
       " 'x98': 433,\n",
       " 'x210': 2661,\n",
       " 'x97': 1134,\n",
       " 'x219': 1216,\n",
       " 'x83': 5380,\n",
       " 'x7': 5019,\n",
       " 'x121': 454,\n",
       " 'x153': 166,\n",
       " 'x197': 2532,\n",
       " 'x185': 8713,\n",
       " 'x225': 6572,\n",
       " 'x69': 2757,\n",
       " 'x42': 8169,\n",
       " 'x244': 171,\n",
       " 'x68': 1380,\n",
       " 'x212': 1940,\n",
       " 'x180': 4343,\n",
       " 'x192': 3670,\n",
       " 'x104': 1474,\n",
       " 'x231': 4269,\n",
       " 'x54': 3593,\n",
       " 'x113': 826,\n",
       " 'x170': 2045,\n",
       " 'x146': 8966,\n",
       " 'x106': 1755,\n",
       " 'x125': 1298,\n",
       " 'x11': 2375,\n",
       " 'x71': 6510,\n",
       " 'x187': 2165,\n",
       " 'x47': 6936,\n",
       " 'x228': 474,\n",
       " 'x203': 3080,\n",
       " 'x49': 8223,\n",
       " 'x105': 1167,\n",
       " 'x30': 1580,\n",
       " 'x253': 6741,\n",
       " 'x92': 2279,\n",
       " 'x65': 5800,\n",
       " 'x119': 16059,\n",
       " 'x166': 3641,\n",
       " 'x177': 576,\n",
       " 'x220': 6359,\n",
       " 'x67': 1891,\n",
       " 'x189': 4497,\n",
       " 'x171': 3309,\n",
       " 'x40': 8365,\n",
       " 'x230': 1001,\n",
       " 'x115': 216,\n",
       " 'x72': 1319,\n",
       " 'x15': 1457,\n",
       " 'x12': 1026,\n",
       " 'x208': 1747,\n",
       " 'x55': 2705,\n",
       " 'x52': 3236,\n",
       " 'x23': 6095,\n",
       " 'x85': 10627,\n",
       " 'x130': 1096,\n",
       " 'x229': 5861,\n",
       " 'x221': 3634,\n",
       " 'x178': 557,\n",
       " 'x59': 2276,\n",
       " 'x214': 1237,\n",
       " 'x126': 796,\n",
       " 'x53': 3798,\n",
       " 'x44': 297,\n",
       " 'x144': 3435,\n",
       " 'x58': 1543,\n",
       " 'x108': 775,\n",
       " 'x242': 367,\n",
       " 'x252': 1623,\n",
       " 'x20': 2450,\n",
       " 'x179': 2176,\n",
       " 'x13': 9250,\n",
       " 'x143': 566,\n",
       " 'x70': 7280,\n",
       " 'x110': 3800,\n",
       " 'x120': 9161,\n",
       " 'x169': 7462,\n",
       " 'x25': 8339,\n",
       " 'x235': 5602,\n",
       " 'x251': 3806,\n",
       " 'x200': 6328,\n",
       " 'x241': 5979,\n",
       " 'x127': 7116,\n",
       " 'x101': 974,\n",
       " 'x109': 443,\n",
       " 'x114': 1296,\n",
       " 'x174': 2829,\n",
       " 'x190': 896,\n",
       " 'x162': 1171,\n",
       " 'x50': 8820,\n",
       " 'x138': 998,\n",
       " 'x78': 614,\n",
       " 'x243': 3617,\n",
       " 'x45': 1750,\n",
       " 'x3': 2192,\n",
       " 'x4': 3925,\n",
       " 'x156': 1125,\n",
       " 'x82': 4780,\n",
       " 'x36': 15414,\n",
       " 'x84': 1202,\n",
       " 'x163': 5611,\n",
       " 'x31': 3620,\n",
       " 'x60': 3809,\n",
       " 'x202': 1028,\n",
       " 'x29': 5151,\n",
       " 'x164': 2165,\n",
       " 'x184': 7212,\n",
       " 'x8': 9205,\n",
       " 'x145': 4173,\n",
       " 'x218': 646,\n",
       " 'x137': 84,\n",
       " 'x165': 277,\n",
       " 'x79': 10740,\n",
       " 'x93': 9865,\n",
       " 'x191': 2349,\n",
       " 'x43': 3327,\n",
       " 'x217': 2681,\n",
       " 'x233': 4807,\n",
       " 'x35': 7704,\n",
       " 'x175': 6801,\n",
       " 'x90': 4549,\n",
       " 'x207': 480,\n",
       " 'x224': 1123,\n",
       " 'x96': 6018,\n",
       " 'x89': 4805,\n",
       " 'x157': 9696,\n",
       " 'x14': 3604,\n",
       " 'x234': 1126,\n",
       " 'x204': 1641,\n",
       " 'x238': 3413,\n",
       " 'x48': 3520,\n",
       " 'x21': 436,\n",
       " 'x198': 605,\n",
       " 'x32': 3624,\n",
       " 'x246': 1225,\n",
       " 'x172': 4081,\n",
       " 'x173': 667,\n",
       " 'x57': 384,\n",
       " 'x254': 3529,\n",
       " 'x116': 1047,\n",
       " 'x77': 4942,\n",
       " 'x152': 1201,\n",
       " 'x248': 531,\n",
       " 'x245': 988,\n",
       " 'x186': 637,\n",
       " 'x199': 2242,\n",
       " 'x215': 820,\n",
       " 'x239': 780,\n",
       " 'x168': 885,\n",
       " 'x133': 2295,\n",
       " 'x227': 518,\n",
       " 'x17': 2676,\n",
       " 'x118': 255,\n",
       " 'x209': 1323,\n",
       " 'x236': 854,\n",
       " 'x100': 3062,\n",
       " 'x102': 998,\n",
       " 'x129': 621,\n",
       " 'x9': 3451,\n",
       " 'x73': 685,\n",
       " 'x123': 2845,\n",
       " 'x61': 4562,\n",
       " 'x28': 3908,\n",
       " 'x2': 4130,\n",
       " 'x232': 1343,\n",
       " 'x255': 2507,\n",
       " 'x250': 1193,\n",
       " 'x27': 1278,\n",
       " 'x111': 1305,\n",
       " 'x124': 148,\n",
       " 'x99': 1724,\n",
       " 'x139': 711,\n",
       " 'x112': 1291,\n",
       " 'x240': 2556,\n",
       " 'x39': 4747,\n",
       " 'x237': 1682,\n",
       " 'x63': 7418,\n",
       " 'x201': 1450,\n",
       " 'x226': 4547,\n",
       " 'x147': 6104,\n",
       " 'x249': 798,\n",
       " 'x135': 3064,\n",
       " 'x140': 784,\n",
       " 'x22': 9845,\n",
       " 'x128': 3622,\n",
       " 'x159': 1784,\n",
       " 'x247': 3478,\n",
       " 'x182': 3025,\n",
       " 'x148': 253,\n",
       " 'x194': 6729,\n",
       " 'x95': 2965,\n",
       " 'x34': 1737,\n",
       " 'x46': 6469,\n",
       " 'x10': 7536,\n",
       " 'x132': 72,\n",
       " 'x161': 615,\n",
       " 'x26': 68,\n",
       " 'x86': 133,\n",
       " 'x74': 103,\n",
       " 'x131': 684,\n",
       " 'x181': 2272,\n",
       " 'x117': 522,\n",
       " 'x87': 558,\n",
       " 'x196': 291,\n",
       " 'x136': 869,\n",
       " 'x222': 530,\n",
       " 'x0': 1267,\n",
       " 'x167': 889,\n",
       " 'x75': 250,\n",
       " 'x151': 2347,\n",
       " 'x216': 205,\n",
       " 'x66': 1013,\n",
       " 'x107': 379,\n",
       " 'x94': 358,\n",
       " 'x103': 136}"
      ]
     },
     "execution_count": 24,
     "metadata": {},
     "output_type": "execute_result"
    }
   ],
   "source": [
    "token_dict"
   ]
  },
  {
   "cell_type": "code",
   "execution_count": 25,
   "metadata": {},
   "outputs": [
    {
     "data": {
      "text/plain": [
       "256"
      ]
     },
     "execution_count": 25,
     "metadata": {},
     "output_type": "execute_result"
    }
   ],
   "source": [
    "len(token_dict)"
   ]
  },
  {
   "cell_type": "code",
   "execution_count": 26,
   "metadata": {},
   "outputs": [],
   "source": [
    "sorted_token_freq = sorted(token_dict.items(), key=lambda x: x[1], reverse=False)"
   ]
  },
  {
   "cell_type": "code",
   "execution_count": 27,
   "metadata": {},
   "outputs": [
    {
     "data": {
      "text/plain": [
       "[('x26', 68),\n",
       " ('x132', 72),\n",
       " ('x137', 84),\n",
       " ('x74', 103),\n",
       " ('x86', 133),\n",
       " ('x103', 136),\n",
       " ('x124', 148),\n",
       " ('x153', 166),\n",
       " ('x244', 171),\n",
       " ('x216', 205),\n",
       " ('x115', 216),\n",
       " ('x75', 250),\n",
       " ('x148', 253),\n",
       " ('x118', 255),\n",
       " ('x165', 277),\n",
       " ('x196', 291),\n",
       " ('x44', 297),\n",
       " ('x94', 358),\n",
       " ('x242', 367),\n",
       " ('x107', 379),\n",
       " ('x57', 384),\n",
       " ('x98', 433),\n",
       " ('x21', 436),\n",
       " ('x109', 443),\n",
       " ('x121', 454),\n",
       " ('x228', 474),\n",
       " ('x207', 480),\n",
       " ('x227', 518),\n",
       " ('x117', 522),\n",
       " ('x222', 530),\n",
       " ('x248', 531),\n",
       " ('x178', 557),\n",
       " ('x87', 558),\n",
       " ('x143', 566),\n",
       " ('x177', 576),\n",
       " ('x213', 594),\n",
       " ('x198', 605),\n",
       " ('x56', 608),\n",
       " ('x78', 614),\n",
       " ('x161', 615),\n",
       " ('x129', 621),\n",
       " ('x186', 637),\n",
       " ('x218', 646),\n",
       " ('x173', 667),\n",
       " ('x131', 684),\n",
       " ('x73', 685),\n",
       " ('x155', 701),\n",
       " ('x139', 711),\n",
       " ('x183', 746),\n",
       " ('x108', 775),\n",
       " ('x239', 780),\n",
       " ('x140', 784),\n",
       " ('x126', 796),\n",
       " ('x249', 798),\n",
       " ('x134', 814),\n",
       " ('x215', 820),\n",
       " ('x113', 826),\n",
       " ('x236', 854),\n",
       " ('x136', 869),\n",
       " ('x168', 885),\n",
       " ('x167', 889),\n",
       " ('x190', 896),\n",
       " ('x101', 974),\n",
       " ('x37', 983),\n",
       " ('x245', 988),\n",
       " ('x138', 998),\n",
       " ('x102', 998),\n",
       " ('x230', 1001),\n",
       " ('x66', 1013),\n",
       " ('x12', 1026),\n",
       " ('x202', 1028),\n",
       " ('x116', 1047),\n",
       " ('x193', 1086),\n",
       " ('x130', 1096),\n",
       " ('x224', 1123),\n",
       " ('x156', 1125),\n",
       " ('x234', 1126),\n",
       " ('x97', 1134),\n",
       " ('x105', 1167),\n",
       " ('x162', 1171),\n",
       " ('x250', 1193),\n",
       " ('x152', 1201),\n",
       " ('x84', 1202),\n",
       " ('x219', 1216),\n",
       " ('x246', 1225),\n",
       " ('x214', 1237),\n",
       " ('x0', 1267),\n",
       " ('x27', 1278),\n",
       " ('x112', 1291),\n",
       " ('x114', 1296),\n",
       " ('x125', 1298),\n",
       " ('x111', 1305),\n",
       " ('x72', 1319),\n",
       " ('x209', 1323),\n",
       " ('x232', 1343),\n",
       " ('x62', 1348),\n",
       " ('x68', 1380),\n",
       " ('x201', 1450),\n",
       " ('x15', 1457),\n",
       " ('x104', 1474),\n",
       " ('x58', 1543),\n",
       " ('x30', 1580),\n",
       " ('x252', 1623),\n",
       " ('x204', 1641),\n",
       " ('x158', 1649),\n",
       " ('x237', 1682),\n",
       " ('x99', 1724),\n",
       " ('x34', 1737),\n",
       " ('x208', 1747),\n",
       " ('x45', 1750),\n",
       " ('x106', 1755),\n",
       " ('x38', 1775),\n",
       " ('x211', 1782),\n",
       " ('x159', 1784),\n",
       " ('x76', 1801),\n",
       " ('x67', 1891),\n",
       " ('x212', 1940),\n",
       " ('x170', 2045),\n",
       " ('x187', 2165),\n",
       " ('x164', 2165),\n",
       " ('x179', 2176),\n",
       " ('x3', 2192),\n",
       " ('x199', 2242),\n",
       " ('x181', 2272),\n",
       " ('x59', 2276),\n",
       " ('x92', 2279),\n",
       " ('x133', 2295),\n",
       " ('x151', 2347),\n",
       " ('x191', 2349),\n",
       " ('x11', 2375),\n",
       " ('x5', 2387),\n",
       " ('x20', 2450),\n",
       " ('x80', 2466),\n",
       " ('x255', 2507),\n",
       " ('x197', 2532),\n",
       " ('x240', 2556),\n",
       " ('x210', 2661),\n",
       " ('x17', 2676),\n",
       " ('x217', 2681),\n",
       " ('x18', 2701),\n",
       " ('x55', 2705),\n",
       " ('x69', 2757),\n",
       " ('x174', 2829),\n",
       " ('x123', 2845),\n",
       " ('x154', 2889),\n",
       " ('x95', 2965),\n",
       " ('x81', 2968),\n",
       " ('x182', 3025),\n",
       " ('x100', 3062),\n",
       " ('x135', 3064),\n",
       " ('x203', 3080),\n",
       " ('x205', 3112),\n",
       " ('x52', 3236),\n",
       " ('x171', 3309),\n",
       " ('x43', 3327),\n",
       " ('x238', 3413),\n",
       " ('x144', 3435),\n",
       " ('x9', 3451),\n",
       " ('x247', 3478),\n",
       " ('x48', 3520),\n",
       " ('x254', 3529),\n",
       " ('x54', 3593),\n",
       " ('x14', 3604),\n",
       " ('x243', 3617),\n",
       " ('x31', 3620),\n",
       " ('x128', 3622),\n",
       " ('x32', 3624),\n",
       " ('x221', 3634),\n",
       " ('x166', 3641),\n",
       " ('x1', 3664),\n",
       " ('x192', 3670),\n",
       " ('x53', 3798),\n",
       " ('x110', 3800),\n",
       " ('x251', 3806),\n",
       " ('x60', 3809),\n",
       " ('x91', 3827),\n",
       " ('x28', 3908),\n",
       " ('x4', 3925),\n",
       " ('x172', 4081),\n",
       " ('x2', 4130),\n",
       " ('x145', 4173),\n",
       " ('x51', 4174),\n",
       " ('x41', 4212),\n",
       " ('x231', 4269),\n",
       " ('x122', 4288),\n",
       " ('x180', 4343),\n",
       " ('x189', 4497),\n",
       " ('x33', 4504),\n",
       " ('x226', 4547),\n",
       " ('x90', 4549),\n",
       " ('x61', 4562),\n",
       " ('x223', 4593),\n",
       " ('x160', 4716),\n",
       " ('x39', 4747),\n",
       " ('x82', 4780),\n",
       " ('x89', 4805),\n",
       " ('x233', 4807),\n",
       " ('x77', 4942),\n",
       " ('x7', 5019),\n",
       " ('x29', 5151),\n",
       " ('x83', 5380),\n",
       " ('x141', 5389),\n",
       " ('x142', 5508),\n",
       " ('x235', 5602),\n",
       " ('x163', 5611),\n",
       " ('x149', 5778),\n",
       " ('x65', 5800),\n",
       " ('x229', 5861),\n",
       " ('x241', 5979),\n",
       " ('x176', 5984),\n",
       " ('x96', 6018),\n",
       " ('x6', 6088),\n",
       " ('x23', 6095),\n",
       " ('x147', 6104),\n",
       " ('x150', 6239),\n",
       " ('x200', 6328),\n",
       " ('x220', 6359),\n",
       " ('x46', 6469),\n",
       " ('x64', 6497),\n",
       " ('x71', 6510),\n",
       " ('x225', 6572),\n",
       " ('x16', 6708),\n",
       " ('x194', 6729),\n",
       " ('x253', 6741),\n",
       " ('x175', 6801),\n",
       " ('x195', 6819),\n",
       " ('x47', 6936),\n",
       " ('x127', 7116),\n",
       " ('x184', 7212),\n",
       " ('x70', 7280),\n",
       " ('x63', 7418),\n",
       " ('x169', 7462),\n",
       " ('x10', 7536),\n",
       " ('x35', 7704),\n",
       " ('x188', 8060),\n",
       " ('x42', 8169),\n",
       " ('x49', 8223),\n",
       " ('x25', 8339),\n",
       " ('x40', 8365),\n",
       " ('x88', 8509),\n",
       " ('x185', 8713),\n",
       " ('x50', 8820),\n",
       " ('x146', 8966),\n",
       " ('x120', 9161),\n",
       " ('x8', 9205),\n",
       " ('x13', 9250),\n",
       " ('x24', 9302),\n",
       " ('x157', 9696),\n",
       " ('x22', 9845),\n",
       " ('x93', 9865),\n",
       " ('x206', 9981),\n",
       " ('x85', 10627),\n",
       " ('x79', 10740),\n",
       " ('x19', 12640),\n",
       " ('x36', 15414),\n",
       " ('x119', 16059)]"
      ]
     },
     "execution_count": 27,
     "metadata": {},
     "output_type": "execute_result"
    }
   ],
   "source": [
    "sorted_token_freq"
   ]
  },
  {
   "cell_type": "code",
   "execution_count": 28,
   "metadata": {},
   "outputs": [
    {
     "data": {
      "text/plain": [
       "<BarContainer object of 256 artists>"
      ]
     },
     "execution_count": 28,
     "metadata": {},
     "output_type": "execute_result"
    },
    {
     "data": {
      "image/png": "[encoded data removed]",
      "text/plain": [
       "<Figure size 432x288 with 1 Axes>"
      ]
     },
     "metadata": {
      "needs_background": "light"
     },
     "output_type": "display_data"
    }
   ],
   "source": [
    "plt.bar(token_dict.keys(), token_dict.values(), color='g')"
   ]
  },
  {
   "cell_type": "code",
   "execution_count": null,
   "metadata": {},
   "outputs": [],
   "source": []
  },
  {
   "cell_type": "code",
   "execution_count": null,
   "metadata": {},
   "outputs": [],
   "source": [
    "from pathlib import Path\n",
    "from tokenizers import Tokenizer\n",
    "from tokenizers.pre_tokenizers import Whitespace\n",
    "from tokenizers.models import BPE\n",
    "from tokenizers.trainers import BpeTrainer\n",
    "from transformers import RobertaTokenizerFast"
   ]
  },
  {
   "cell_type": "markdown",
   "metadata": {},
   "source": [
    "### prepare tokenizer"
   ]
  },
  {
   "cell_type": "code",
   "execution_count": null,
   "metadata": {},
   "outputs": [],
   "source": [
    "paths = [str(x) for x in Path(\"data\").glob(\"*.txt\")]"
   ]
  },
  {
   "cell_type": "code",
   "execution_count": null,
   "metadata": {},
   "outputs": [],
   "source": [
    "# initialize a tokenizer\n",
    "\n",
    "tokenizer = Tokenizer(BPE())\n",
    "tokenizer.pre_tokenizer = Whitespace()\n",
    "trainer = BpeTrainer()\n",
    "tokenizer.train(files=paths, trainer=trainer)"
   ]
  },
  {
   "cell_type": "code",
   "execution_count": null,
   "metadata": {},
   "outputs": [],
   "source": [
    "# test if codewords are tokenized correctly - yes!\n",
    "\n",
    "f = open(paths[2], 'r')\n",
    "text = f.read()\n",
    "output = tokenizer.encode(text)\n",
    "print(output.ids[:5])\n",
    "print(output.tokens[:5])"
   ]
  },
  {
   "cell_type": "code",
   "execution_count": null,
   "metadata": {},
   "outputs": [],
   "source": [
    "tokenizer.save('tokenizer/bert-tokenizer.json')"
   ]
  },
  {
   "cell_type": "code",
   "execution_count": null,
   "metadata": {},
   "outputs": [],
   "source": [
    "import json\n",
    "\n",
    "tokenizer_info = json.load(open('tokenizer/bert-tokenizer.json', 'r'))\n",
    "\n",
    "with open('tokenizer/vocab.json', 'w') as file:\n",
    "    json.dump(tokenizer_info['model']['vocab'], file)\n",
    "\n",
    "with open('tokenizer/merges.json', 'w') as file:\n",
    "    json.dump(tokenizer_info['model']['merges'], file)"
   ]
  },
  {
   "cell_type": "code",
   "execution_count": null,
   "metadata": {},
   "outputs": [],
   "source": [
    "tokenizer_load = RobertaTokenizerFast.from_pretrained('tokenizer')"
   ]
  },
  {
   "cell_type": "markdown",
   "metadata": {},
   "source": [
    "### build custom datasets"
   ]
  },
  {
   "cell_type": "code",
   "execution_count": null,
   "metadata": {},
   "outputs": [],
   "source": [
    "import pandas as pd\n",
    "from torch.utils.data.dataset import Dataset"
   ]
  },
  {
   "cell_type": "code",
   "execution_count": null,
   "metadata": {},
   "outputs": [],
   "source": [
    "\n",
    "class CustomDataset(Dataset):\n",
    "    \n",
    "    def __init__(self, df, tokenizer):\n",
    "\n",
    "        self.examples = []\n",
    "        # encode sequence into token ids\n",
    "        for example in df.values:\n",
    "            #x = tokenizer.encode_plus(example, truncation=True, padding=True)\n",
    "            x = tokenizer.encode_plus(example)\n",
    "            self.examples += [x.input_ids]\n",
    "    \n",
    "    def __len__(self):\n",
    "        \n",
    "        return len(self.examples)\n",
    "    \n",
    "    def __getitem__(self, i):\n",
    "        return torch.tensor(self.examples[i])"
   ]
  },
  {
   "cell_type": "code",
   "execution_count": null,
   "metadata": {
    "scrolled": true
   },
   "outputs": [],
   "source": [
    "df = pd.read_csv('train_val_data.csv')\n",
    "\n",
    "train_df = df[df['is_valid'] == 0]\n",
    "valid_df = df[df['is_valid'] == 1]\n",
    "\n",
    "train_dataset = CustomDataset(train_df['codewords'], tokenizer_load)\n",
    "valid_dataset = CustomDataset(valid_df['codewords'], tokenizer_load)"
   ]
  },
  {
   "cell_type": "markdown",
   "metadata": {},
   "source": [
    "### build language model"
   ]
  },
  {
   "cell_type": "code",
   "execution_count": null,
   "metadata": {},
   "outputs": [],
   "source": [
    "import torch\n",
    "import math\n",
    "from transformers import RobertaConfig, RobertaModel, RobertaForMaskedLM\n",
    "from transformers import RobertaTokenizerFast\n",
    "from transformers import DataCollatorForLanguageModeling\n",
    "from transformers import Trainer, TrainingArguments\n",
    "from transformers import pipeline"
   ]
  },
  {
   "cell_type": "code",
   "execution_count": null,
   "metadata": {},
   "outputs": [],
   "source": [
    "configuration = RobertaConfig(vocab_size=256)\n",
    "model = RobertaForMaskedLM(configuration)\n",
    "print('Num parameters: ', model.num_parameters())"
   ]
  },
  {
   "cell_type": "markdown",
   "metadata": {},
   "source": [
    "Huggingface assumed `bert-tokenizer` was a path, a model identifier, or url to a directory containing vocabulary files named `['vocab.json', 'merges.txt']` but couldn't find such vocabulary files at this path or url."
   ]
  },
  {
   "cell_type": "code",
   "execution_count": null,
   "metadata": {},
   "outputs": [],
   "source": [
    "tokenizer_load = RobertaTokenizerFast.from_pretrained('tokenizer')"
   ]
  },
  {
   "cell_type": "code",
   "execution_count": null,
   "metadata": {},
   "outputs": [],
   "source": [
    "data_collator = DataCollatorForLanguageModeling(\n",
    "    tokenizer=tokenizer_load, mlm=True, mlm_probability=0.15\n",
    ")"
   ]
  },
  {
   "cell_type": "code",
   "execution_count": null,
   "metadata": {},
   "outputs": [],
   "source": [
    "# Create the trainer for our model\n",
    "\n",
    "trainer = Trainer(\n",
    "    model=model,\n",
    "    data_collator=data_collator,\n",
    "    train_dataset=train_dataset,\n",
    "    eval_dataset=valid_dataset\n",
    ")"
   ]
  },
  {
   "cell_type": "code",
   "execution_count": null,
   "metadata": {},
   "outputs": [],
   "source": [
    "# Train the model\n",
    "\n",
    "trainer.train()"
   ]
  },
  {
   "cell_type": "code",
   "execution_count": null,
   "metadata": {},
   "outputs": [],
   "source": [
    "eval_results = trainer.evaluate()\n",
    "print(f\"Perplexity: {math.exp(eval_results['eval_loss']):.2f}\")"
   ]
  },
  {
   "cell_type": "code",
   "execution_count": null,
   "metadata": {},
   "outputs": [],
   "source": [
    "trainer.save_model('BERT_models')"
   ]
  },
  {
   "cell_type": "code",
   "execution_count": null,
   "metadata": {},
   "outputs": [],
   "source": [
    "fill_mask = pipeline(\n",
    "    \"fill-mask\",\n",
    "    model='BERT_models',\n",
    "    tokenizer=tokenizer_load\n",
    ")"
   ]
  },
  {
   "cell_type": "code",
   "execution_count": null,
   "metadata": {},
   "outputs": [],
   "source": [
    "fill_mask(\"X23 <mask>\")"
   ]
  },
  {
   "cell_type": "markdown",
   "metadata": {},
   "source": [
    "### fine-tune LM on genre classfication"
   ]
  },
  {
   "cell_type": "code",
   "execution_count": null,
   "metadata": {},
   "outputs": [],
   "source": [
    "import torch\n",
    "import torch.nn as nn\n",
    "import pandas as pd\n",
    "import numpy as np"
   ]
  },
  {
   "cell_type": "code",
   "execution_count": null,
   "metadata": {},
   "outputs": [],
   "source": [
    "\n",
    "def preprocess_for_bert(data, tokenizer, max_len):\n",
    "    \n",
    "    input_ids = []\n",
    "    attention_masks = []\n",
    "    \n",
    "    for sent in data:\n",
    "        \n",
    "        encoded_sent = tokenizer.encode_plus(\n",
    "            text = sent,\n",
    "            max_length = max_len,\n",
    "            pad_to_max_length = True,\n",
    "            truncation=True,\n",
    "            return_attention_mask = True)\n",
    "        \n",
    "        input_ids.append(encoded_sent.get('input_ids'))\n",
    "        attention_masks.append(encoded_sent.get('attention_mask'))\n",
    "        \n",
    "        # convert lists to tensors\n",
    "        input_ids = torch.tensor(input_ids)\n",
    "        attention_masks = torch.tensor(attention_masks)\n",
    "        \n",
    "        return input_ids, attention_masks"
   ]
  },
  {
   "cell_type": "markdown",
   "metadata": {},
   "source": [
    "In training for genre classification, we take the list of codewords for one audio clip as one senetence. \n",
    "\n",
    "we need to find the maximum length of our sentences from all of the codeword representations of the GTZAN dataset, which is MAX_LEN.\n",
    "\n",
    "* what form should `sent` be?"
   ]
  },
  {
   "cell_type": "markdown",
   "metadata": {},
   "source": [
    "**Find the maximum length of sentences**"
   ]
  },
  {
   "cell_type": "code",
   "execution_count": null,
   "metadata": {},
   "outputs": [],
   "source": [
    "train_val_data = pd.read_csv('train_val_data.csv')\n",
    "test_data = pd.read_csv('test_data.csv')\n",
    "\n",
    "all_codewords = np.concatenate([train_val_data['codewords'].values, \n",
    "               test_data['codewords'].values])\n",
    "\n",
    "print(f\"Total number of 'sentences': {all_codewords.size}\")"
   ]
  },
  {
   "cell_type": "code",
   "execution_count": null,
   "metadata": {},
   "outputs": [],
   "source": [
    "max_len = max([len(sent) for sent in all_codewords])\n",
    "print('Max length: ', max_len)"
   ]
  },
  {
   "cell_type": "markdown",
   "metadata": {},
   "source": [
    "**Tokenize our data**"
   ]
  },
  {
   "cell_type": "code",
   "execution_count": null,
   "metadata": {},
   "outputs": [],
   "source": [
    "original = train_val_data['codewords'][0]\n",
    "encoded = preprocess_for_bert(original, tokenizer_load, max_len)\n",
    "print(f'Original: {original}\\nEncode: {encoded}')"
   ]
  },
  {
   "cell_type": "code",
   "execution_count": null,
   "metadata": {},
   "outputs": [],
   "source": [
    "X_train = train_val_data[(train_val_data['is_valid']==0)]['codewords'].values\n",
    "X_val = train_val_data[(train_val_data['is_valid']==1)]['codewords'].values\n",
    "\n",
    "y_train = train_val_data[(train_val_data['is_valid']==0)]['genre'].values\n",
    "y_val = train_val_data[(train_val_data['is_valid']==1)]['genre'].values\n",
    "\n",
    "train_inputs, train_masks = preprocess_for_bert(X_train, tokenizer_load, max_len)\n",
    "val_inputs, val_masks = preprocess_for_bert(X_val, tokenizer_load, max_len)"
   ]
  },
  {
   "cell_type": "markdown",
   "metadata": {},
   "source": [
    "**Create Pytorch DataLoader**"
   ]
  },
  {
   "cell_type": "code",
   "execution_count": null,
   "metadata": {},
   "outputs": [],
   "source": [
    "from torch.utils.data import TensorDataset, DataLoader, RandomSampler, SequentialSampler\n",
    "import pandas as pd\n",
    "from helpers import *"
   ]
  },
  {
   "cell_type": "code",
   "execution_count": null,
   "metadata": {},
   "outputs": [],
   "source": [
    "y_train = one_hot_encode(train_val_data[train_val_data['is_valid']==0], 'genre')\n",
    "y_val = one_hot_encode(train_val_data[train_val_data['is_valid']==1], 'genre')\n",
    "\n",
    "# Convert other data types to torch.Tensor\n",
    "\n",
    "train_labels = torch.tensor(y_train)\n",
    "val_labels = torch.tensor(y_val)\n",
    "print(train_labels, '\\n', val_labels)"
   ]
  },
  {
   "cell_type": "code",
   "execution_count": null,
   "metadata": {},
   "outputs": [],
   "source": [
    "# create dataloader for training set\n",
    "# train_data = TensorDataset(train_inputs, train_masks, train_labels)\n",
    "print(train_inputs.shape, train_masks.shape, train_labels.shape)"
   ]
  },
  {
   "cell_type": "code",
   "execution_count": null,
   "metadata": {},
   "outputs": [],
   "source": []
  },
  {
   "cell_type": "markdown",
   "metadata": {},
   "source": [
    "**Create BERT classifier for genre identification**"
   ]
  },
  {
   "cell_type": "code",
   "execution_count": null,
   "metadata": {},
   "outputs": [],
   "source": [
    "import torch\n",
    "import torch.nn as nn\n",
    "from transformers import AdamW, get_linear_schedule_with_warmup"
   ]
  },
  {
   "cell_type": "code",
   "execution_count": null,
   "metadata": {},
   "outputs": [],
   "source": [
    "class GenreClassifier(nn.Module):\n",
    "    \n",
    "    def __init__(self, tokenizer, free_bert=False):\n",
    "        \n",
    "        super(BertClassifier, self).__init__()\n",
    "        D_in, H, D_out = 768, 50, 10\n",
    "        self.bert = RobertaTokenizerFast.from_pretrained('tokenizer')\n",
    "        \n",
    "        self.classifier = nn.Sequential(\n",
    "            nn.Linear(D_in, H),\n",
    "            nn.ReLU(),\n",
    "            nn.Linear(H, D_out)\n",
    "        )\n",
    "        if freeze_bert:\n",
    "            for param in self.bert.parameters():\n",
    "                param.requires_grad = False\n",
    "    \n",
    "    def forward(self, input_ids, attention_mask):\n",
    "        \n",
    "        # get outputs from Bert\n",
    "        outputs = self.bert(input_ids=input_ids,\n",
    "                            attention_mask=attention_mask)\n",
    "        # extract the last hidden state for classification task\n",
    "        last_hidden_state_cls = outputs[0][:, 0, :]\n",
    "        \n",
    "        # compute logits\n",
    "        logits = self.classifier(last_hidden_state_cls)\n",
    "        \n",
    "        return logits"
   ]
  },
  {
   "cell_type": "code",
   "execution_count": null,
   "metadata": {},
   "outputs": [],
   "source": [
    "def initialize_model(epochs=4):\n",
    "\n",
    "    # Instantiate Bert Classifier\n",
    "    bert_classifier = BertClassifier(freeze_bert=False)\n",
    "\n",
    "    # Tell PyTorch to run the model on GPU\n",
    "    bert_classifier.to(device)\n",
    "\n",
    "    # Create the optimizer\n",
    "    optimizer = AdamW(bert_classifier.parameters(),\n",
    "                      lr=5e-5,    # Default learning rate\n",
    "                      eps=1e-8    # Default epsilon value\n",
    "                      )\n",
    "\n",
    "    # Total number of training steps\n",
    "    total_steps = len(train_dataloader) * epochs\n",
    "\n",
    "    # Set up the learning rate scheduler\n",
    "    scheduler = get_linear_schedule_with_warmup(optimizer,\n",
    "                                                num_warmup_steps=0, # Default value\n",
    "                                                num_training_steps=total_steps)\n",
    "    return bert_classifier, optimizer, scheduler"
   ]
  },
  {
   "cell_type": "markdown",
   "metadata": {},
   "source": [
    "**training**"
   ]
  },
  {
   "cell_type": "code",
   "execution_count": null,
   "metadata": {},
   "outputs": [],
   "source": [
    "import random\n",
    "import time"
   ]
  },
  {
   "cell_type": "code",
   "execution_count": null,
   "metadata": {},
   "outputs": [],
   "source": [
    "loss_fn = nn.CrossEntropyLoss()\n"
   ]
  }
 ],
 "metadata": {
  "kernelspec": {
   "display_name": "Python 3",
   "language": "python",
   "name": "python3"
  },
  "language_info": {
   "codemirror_mode": {
    "name": "ipython",
    "version": 3
   },
   "file_extension": ".py",
   "mimetype": "text/x-python",
   "name": "python",
   "nbconvert_exporter": "python",
   "pygments_lexer": "ipython3",
   "version": "3.8.5"
  }
 },
 "nbformat": 4,
 "nbformat_minor": 4
}
