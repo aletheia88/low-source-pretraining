{
 "cells": [
  {
   "cell_type": "code",
   "execution_count": 3,
   "metadata": {},
   "outputs": [],
   "source": [
    "import numpy as np\n",
    "import torch\n",
    "import fastai\n",
    "import pandas as pd\n",
    "import csv\n",
    "\n",
    "from fastai import *\n",
    "from fastai.text import *\n",
    "from fastai.text.all import *"
   ]
  },
  {
   "cell_type": "code",
   "execution_count": 4,
   "metadata": {},
   "outputs": [
    {
     "name": "stdout",
     "output_type": "stream",
     "text": [
      "1.10.2+cu102\n"
     ]
    },
    {
     "data": {
      "text/plain": [
       "1"
      ]
     },
     "execution_count": 4,
     "metadata": {},
     "output_type": "execute_result"
    }
   ],
   "source": [
    "print(torch.__version__)\n",
    "\n",
    "# Set device\n",
    "torch.cuda.set_device(1)\n",
    "torch.cuda.current_device()"
   ]
  },
  {
   "cell_type": "code",
   "execution_count": 3,
   "metadata": {},
   "outputs": [
    {
     "data": {
      "text/html": [
       "<div>\n",
       "<style scoped>\n",
       "    .dataframe tbody tr th:only-of-type {\n",
       "        vertical-align: middle;\n",
       "    }\n",
       "\n",
       "    .dataframe tbody tr th {\n",
       "        vertical-align: top;\n",
       "    }\n",
       "\n",
       "    .dataframe thead th {\n",
       "        text-align: right;\n",
       "    }\n",
       "</style>\n",
       "<table border=\"1\" class=\"dataframe\">\n",
       "  <thead>\n",
       "    <tr style=\"text-align: right;\">\n",
       "      <th></th>\n",
       "      <th>audio_id</th>\n",
       "      <th>codeword_indices</th>\n",
       "      <th>codewords</th>\n",
       "      <th>genre</th>\n",
       "      <th>is_valid</th>\n",
       "    </tr>\n",
       "  </thead>\n",
       "  <tbody>\n",
       "    <tr>\n",
       "      <th>634</th>\n",
       "      <td>rock.00081.wav</td>\n",
       "      <td>[119, 119, 119, 119, 119, 119, 119, 119, 119, 119, 119, 119, 241, 241, 40, 40, 40, 40, 40, 220, 220, 220, 119, 225, 225, 65, 225, 225, 119, 119, 88, 88, 206, 88, 88, 40, 40, 40, 40, 220, 185, 185, 185, 206, 88, 119, 88, 88, 88, 88, 206, 206, 206, 206, 88, 119, 119, 231, 40, 40, 40, 241, 241, 40, 40, 25, 50, 36, 36, 50, 50, 50, 169, 82, 119, 119, 120, 169, 36, 235, 235, 169, 225, 45, 119, 225, 225, 120, 120, 120, 169, 169, 169, 85, 85, 241, 241, 241, 241, 189, 85, 85, 189, 189, 189, 189, 189, 189, 189, 225, 225, 225, 225, 225, 225, 85, 206, 206, 206, 30, 30, 30, 91, 91, 91, 91, 91, 91, 91, ...</td>\n",
       "      <td>x119 x119 x119 x119 x119 x119 x119 x119 x119 x119 x119 x119 x241 x241 x40 x40 x40 x40 x40 x220 x220 x220 x119 x225 x225 x65 x225 x225 x119 x119 x88 x88 x206 x88 x88 x40 x40 x40 x40 x220 x185 x185 x185 x206 x88 x119 x88 x88 x88 x88 x206 x206 x206 x206 x88 x119 x119 x231 x40 x40 x40 x241 x241 x40 x40 x25 x50 x36 x36 x50 x50 x50 x169 x82 x119 x119 x120 x169 x36 x235 x235 x169 x225 x45 x119 x225 x225 x120 x120 x120 x169 x169 x169 x85 x85 x241 x241 x241 x241 x189 x85 x85 x189 x189 x189 x189 x189 x189 x189 x225 x225 x225 x225 x225 x225 x85 x206 x206 x206 x30 x30 x30 x91 x91 x91 x91 x91 x91 x91 x...</td>\n",
       "      <td>rock</td>\n",
       "      <td>1</td>\n",
       "    </tr>\n",
       "    <tr>\n",
       "      <th>635</th>\n",
       "      <td>rock.00082.wav</td>\n",
       "      <td>[145, 65, 146, 146, 146, 70, 70, 13, 13, 206, 206, 206, 110, 13, 13, 206, 91, 91, 39, 212, 190, 206, 91, 91, 185, 119, 229, 120, 120, 85, 85, 85, 85, 85, 85, 85, 13, 13, 13, 13, 13, 189, 189, 189, 189, 189, 189, 189, 189, 189, 189, 85, 50, 36, 36, 235, 235, 235, 235, 85, 85, 13, 13, 13, 13, 13, 85, 85, 119, 82, 82, 82, 82, 82, 82, 82, 173, 189, 82, 25, 120, 146, 146, 146, 146, 146, 13, 13, 13, 206, 206, 220, 206, 206, 206, 185, 185, 185, 185, 185, 149, 149, 160, 160, 88, 225, 36, 36, 65, 65, 225, 85, 85, 85, 85, 85, 13, 13, 13, 13, 13, 13, 13, 13, 206, 206, 206, 206, 185, 91, 13, 65, 65, 1...</td>\n",
       "      <td>x145 x65 x146 x146 x146 x70 x70 x13 x13 x206 x206 x206 x110 x13 x13 x206 x91 x91 x39 x212 x190 x206 x91 x91 x185 x119 x229 x120 x120 x85 x85 x85 x85 x85 x85 x85 x13 x13 x13 x13 x13 x189 x189 x189 x189 x189 x189 x189 x189 x189 x189 x85 x50 x36 x36 x235 x235 x235 x235 x85 x85 x13 x13 x13 x13 x13 x85 x85 x119 x82 x82 x82 x82 x82 x82 x82 x173 x189 x82 x25 x120 x146 x146 x146 x146 x146 x13 x13 x13 x206 x206 x220 x206 x206 x206 x185 x185 x185 x185 x185 x149 x149 x160 x160 x88 x225 x36 x36 x65 x65 x225 x85 x85 x85 x85 x85 x13 x13 x13 x13 x13 x13 x13 x13 x206 x206 x206 x206 x185 x91 x13 x65 x65 x1...</td>\n",
       "      <td>rock</td>\n",
       "      <td>1</td>\n",
       "    </tr>\n",
       "    <tr>\n",
       "      <th>636</th>\n",
       "      <td>rock.00083.wav</td>\n",
       "      <td>[147, 88, 241, 40, 88, 88, 88, 88, 88, 40, 220, 220, 220, 7, 229, 50, 119, 119, 119, 119, 188, 88, 88, 188, 40, 188, 88, 88, 88, 88, 7, 220, 220, 220, 195, 40, 119, 188, 88, 88, 88, 88, 206, 206, 206, 88, 119, 119, 88, 88, 16, 16, 206, 206, 206, 206, 119, 50, 120, 119, 119, 119, 119, 119, 88, 88, 88, 88, 88, 188, 88, 88, 88, 206, 206, 206, 146, 146, 65, 119, 88, 88, 110, 146, 88, 88, 88, 88, 88, 16, 16, 16, 16, 16, 16, 16, 16, 16, 16, 225, 225, 65, 119, 88, 88, 88, 88, 110, 110, 110, 110, 88, 88, 88, 110, 110, 110, 110, 110, 206, 88, 200, 70, 110, 110, 16, 16, 16, 16, 16, 206, 206, 110, 11...</td>\n",
       "      <td>x147 x88 x241 x40 x88 x88 x88 x88 x88 x40 x220 x220 x220 x7 x229 x50 x119 x119 x119 x119 x188 x88 x88 x188 x40 x188 x88 x88 x88 x88 x7 x220 x220 x220 x195 x40 x119 x188 x88 x88 x88 x88 x206 x206 x206 x88 x119 x119 x88 x88 x16 x16 x206 x206 x206 x206 x119 x50 x120 x119 x119 x119 x119 x119 x88 x88 x88 x88 x88 x188 x88 x88 x88 x206 x206 x206 x146 x146 x65 x119 x88 x88 x110 x146 x88 x88 x88 x88 x88 x16 x16 x16 x16 x16 x16 x16 x16 x16 x16 x225 x225 x65 x119 x88 x88 x88 x88 x110 x110 x110 x110 x88 x88 x88 x110 x110 x110 x110 x110 x206 x88 x200 x70 x110 x110 x16 x16 x16 x16 x16 x206 x206 x110 x11...</td>\n",
       "      <td>rock</td>\n",
       "      <td>1</td>\n",
       "    </tr>\n",
       "    <tr>\n",
       "      <th>637</th>\n",
       "      <td>rock.00084.wav</td>\n",
       "      <td>[23, 146, 65, 65, 119, 119, 119, 119, 119, 119, 119, 119, 119, 119, 119, 119, 119, 119, 13, 189, 119, 65, 65, 65, 146, 146, 146, 146, 146, 88, 88, 88, 119, 119, 119, 119, 88, 88, 88, 88, 88, 119, 119, 88, 88, 88, 206, 206, 220, 206, 88, 88, 119, 88, 146, 109, 109, 109, 109, 170, 170, 65, 65, 65, 65, 65, 225, 119, 13, 88, 88, 88, 188, 88, 88, 7, 7, 7, 7, 7, 7, 188, 200, 188, 88, 88, 88, 42, 42, 42, 42, 7, 7, 7, 42, 42, 42, 49, 176, 176, 88, 65, 65, 146, 146, 146, 88, 88, 88, 16, 16, 88, 88, 16, 16, 42, 150, 150, 64, 64, 42, 13, 13, 16, 16, 81, 81, 81, 150, 150, 42, 220, 220, 81, 150, 64, 64...</td>\n",
       "      <td>x23 x146 x65 x65 x119 x119 x119 x119 x119 x119 x119 x119 x119 x119 x119 x119 x119 x119 x13 x189 x119 x65 x65 x65 x146 x146 x146 x146 x146 x88 x88 x88 x119 x119 x119 x119 x88 x88 x88 x88 x88 x119 x119 x88 x88 x88 x206 x206 x220 x206 x88 x88 x119 x88 x146 x109 x109 x109 x109 x170 x170 x65 x65 x65 x65 x65 x225 x119 x13 x88 x88 x88 x188 x88 x88 x7 x7 x7 x7 x7 x7 x188 x200 x188 x88 x88 x88 x42 x42 x42 x42 x7 x7 x7 x42 x42 x42 x49 x176 x176 x88 x65 x65 x146 x146 x146 x88 x88 x88 x16 x16 x88 x88 x16 x16 x42 x150 x150 x64 x64 x42 x13 x13 x16 x16 x81 x81 x81 x150 x150 x42 x220 x220 x81 x150 x64 x64...</td>\n",
       "      <td>rock</td>\n",
       "      <td>1</td>\n",
       "    </tr>\n",
       "    <tr>\n",
       "      <th>638</th>\n",
       "      <td>rock.00085.wav</td>\n",
       "      <td>[18, 149, 30, 193, 225, 189, 189, 193, 193, 193, 193, 30, 30, 30, 30, 30, 30, 30, 30, 30, 30, 30, 30, 30, 30, 30, 30, 30, 149, 47, 149, 30, 30, 30, 30, 30, 30, 74, 193, 193, 193, 30, 190, 173, 173, 173, 4, 30, 30, 30, 4, 4, 4, 30, 30, 4, 193, 193, 193, 30, 30, 30, 30, 47, 160, 160, 160, 91, 68, 4, 193, 193, 4, 4, 4, 4, 4, 68, 68, 68, 158, 160, 68, 68, 68, 68, 68, 68, 68, 158, 91, 91, 4, 30, 91, 30, 193, 193, 4, 4, 68, 68, 68, 68, 68, 4, 4, 4, 30, 30, 189, 189, 40, 171, 171, 171, 171, 171, 171, 171, 171, 171, 171, 171, 171, 171, 171, 4, 171, 171, 171, 115, 149, 149, 171, 230, 149, 149, 149,...</td>\n",
       "      <td>x18 x149 x30 x193 x225 x189 x189 x193 x193 x193 x193 x30 x30 x30 x30 x30 x30 x30 x30 x30 x30 x30 x30 x30 x30 x30 x30 x30 x149 x47 x149 x30 x30 x30 x30 x30 x30 x74 x193 x193 x193 x30 x190 x173 x173 x173 x4 x30 x30 x30 x4 x4 x4 x30 x30 x4 x193 x193 x193 x30 x30 x30 x30 x47 x160 x160 x160 x91 x68 x4 x193 x193 x4 x4 x4 x4 x4 x68 x68 x68 x158 x160 x68 x68 x68 x68 x68 x68 x68 x158 x91 x91 x4 x30 x91 x30 x193 x193 x4 x4 x68 x68 x68 x68 x68 x4 x4 x4 x30 x30 x189 x189 x40 x171 x171 x171 x171 x171 x171 x171 x171 x171 x171 x171 x171 x171 x171 x4 x171 x171 x171 x115 x149 x149 x171 x230 x149 x149 x149 ...</td>\n",
       "      <td>rock</td>\n",
       "      <td>1</td>\n",
       "    </tr>\n",
       "  </tbody>\n",
       "</table>\n",
       "</div>"
      ],
      "text/plain": [
       "           audio_id  \\\n",
       "634  rock.00081.wav   \n",
       "635  rock.00082.wav   \n",
       "636  rock.00083.wav   \n",
       "637  rock.00084.wav   \n",
       "638  rock.00085.wav   \n",
       "\n",
       "                                                                                                                                                                                                                                                                                                                                                                                                                                                                                                                                                                                                            codeword_indices  \\\n",
       "634  [119, 119, 119, 119, 119, 119, 119, 119, 119, 119, 119, 119, 241, 241, 40, 40, 40, 40, 40, 220, 220, 220, 119, 225, 225, 65, 225, 225, 119, 119, 88, 88, 206, 88, 88, 40, 40, 40, 40, 220, 185, 185, 185, 206, 88, 119, 88, 88, 88, 88, 206, 206, 206, 206, 88, 119, 119, 231, 40, 40, 40, 241, 241, 40, 40, 25, 50, 36, 36, 50, 50, 50, 169, 82, 119, 119, 120, 169, 36, 235, 235, 169, 225, 45, 119, 225, 225, 120, 120, 120, 169, 169, 169, 85, 85, 241, 241, 241, 241, 189, 85, 85, 189, 189, 189, 189, 189, 189, 189, 225, 225, 225, 225, 225, 225, 85, 206, 206, 206, 30, 30, 30, 91, 91, 91, 91, 91, 91, 91, ...   \n",
       "635  [145, 65, 146, 146, 146, 70, 70, 13, 13, 206, 206, 206, 110, 13, 13, 206, 91, 91, 39, 212, 190, 206, 91, 91, 185, 119, 229, 120, 120, 85, 85, 85, 85, 85, 85, 85, 13, 13, 13, 13, 13, 189, 189, 189, 189, 189, 189, 189, 189, 189, 189, 85, 50, 36, 36, 235, 235, 235, 235, 85, 85, 13, 13, 13, 13, 13, 85, 85, 119, 82, 82, 82, 82, 82, 82, 82, 173, 189, 82, 25, 120, 146, 146, 146, 146, 146, 13, 13, 13, 206, 206, 220, 206, 206, 206, 185, 185, 185, 185, 185, 149, 149, 160, 160, 88, 225, 36, 36, 65, 65, 225, 85, 85, 85, 85, 85, 13, 13, 13, 13, 13, 13, 13, 13, 206, 206, 206, 206, 185, 91, 13, 65, 65, 1...   \n",
       "636  [147, 88, 241, 40, 88, 88, 88, 88, 88, 40, 220, 220, 220, 7, 229, 50, 119, 119, 119, 119, 188, 88, 88, 188, 40, 188, 88, 88, 88, 88, 7, 220, 220, 220, 195, 40, 119, 188, 88, 88, 88, 88, 206, 206, 206, 88, 119, 119, 88, 88, 16, 16, 206, 206, 206, 206, 119, 50, 120, 119, 119, 119, 119, 119, 88, 88, 88, 88, 88, 188, 88, 88, 88, 206, 206, 206, 146, 146, 65, 119, 88, 88, 110, 146, 88, 88, 88, 88, 88, 16, 16, 16, 16, 16, 16, 16, 16, 16, 16, 225, 225, 65, 119, 88, 88, 88, 88, 110, 110, 110, 110, 88, 88, 88, 110, 110, 110, 110, 110, 206, 88, 200, 70, 110, 110, 16, 16, 16, 16, 16, 206, 206, 110, 11...   \n",
       "637  [23, 146, 65, 65, 119, 119, 119, 119, 119, 119, 119, 119, 119, 119, 119, 119, 119, 119, 13, 189, 119, 65, 65, 65, 146, 146, 146, 146, 146, 88, 88, 88, 119, 119, 119, 119, 88, 88, 88, 88, 88, 119, 119, 88, 88, 88, 206, 206, 220, 206, 88, 88, 119, 88, 146, 109, 109, 109, 109, 170, 170, 65, 65, 65, 65, 65, 225, 119, 13, 88, 88, 88, 188, 88, 88, 7, 7, 7, 7, 7, 7, 188, 200, 188, 88, 88, 88, 42, 42, 42, 42, 7, 7, 7, 42, 42, 42, 49, 176, 176, 88, 65, 65, 146, 146, 146, 88, 88, 88, 16, 16, 88, 88, 16, 16, 42, 150, 150, 64, 64, 42, 13, 13, 16, 16, 81, 81, 81, 150, 150, 42, 220, 220, 81, 150, 64, 64...   \n",
       "638  [18, 149, 30, 193, 225, 189, 189, 193, 193, 193, 193, 30, 30, 30, 30, 30, 30, 30, 30, 30, 30, 30, 30, 30, 30, 30, 30, 30, 149, 47, 149, 30, 30, 30, 30, 30, 30, 74, 193, 193, 193, 30, 190, 173, 173, 173, 4, 30, 30, 30, 4, 4, 4, 30, 30, 4, 193, 193, 193, 30, 30, 30, 30, 47, 160, 160, 160, 91, 68, 4, 193, 193, 4, 4, 4, 4, 4, 68, 68, 68, 158, 160, 68, 68, 68, 68, 68, 68, 68, 158, 91, 91, 4, 30, 91, 30, 193, 193, 4, 4, 68, 68, 68, 68, 68, 4, 4, 4, 30, 30, 189, 189, 40, 171, 171, 171, 171, 171, 171, 171, 171, 171, 171, 171, 171, 171, 171, 4, 171, 171, 171, 115, 149, 149, 171, 230, 149, 149, 149,...   \n",
       "\n",
       "                                                                                                                                                                                                                                                                                                                                                                                                                                                                                                                                                                                                                   codewords  \\\n",
       "634  x119 x119 x119 x119 x119 x119 x119 x119 x119 x119 x119 x119 x241 x241 x40 x40 x40 x40 x40 x220 x220 x220 x119 x225 x225 x65 x225 x225 x119 x119 x88 x88 x206 x88 x88 x40 x40 x40 x40 x220 x185 x185 x185 x206 x88 x119 x88 x88 x88 x88 x206 x206 x206 x206 x88 x119 x119 x231 x40 x40 x40 x241 x241 x40 x40 x25 x50 x36 x36 x50 x50 x50 x169 x82 x119 x119 x120 x169 x36 x235 x235 x169 x225 x45 x119 x225 x225 x120 x120 x120 x169 x169 x169 x85 x85 x241 x241 x241 x241 x189 x85 x85 x189 x189 x189 x189 x189 x189 x189 x225 x225 x225 x225 x225 x225 x85 x206 x206 x206 x30 x30 x30 x91 x91 x91 x91 x91 x91 x91 x...   \n",
       "635  x145 x65 x146 x146 x146 x70 x70 x13 x13 x206 x206 x206 x110 x13 x13 x206 x91 x91 x39 x212 x190 x206 x91 x91 x185 x119 x229 x120 x120 x85 x85 x85 x85 x85 x85 x85 x13 x13 x13 x13 x13 x189 x189 x189 x189 x189 x189 x189 x189 x189 x189 x85 x50 x36 x36 x235 x235 x235 x235 x85 x85 x13 x13 x13 x13 x13 x85 x85 x119 x82 x82 x82 x82 x82 x82 x82 x173 x189 x82 x25 x120 x146 x146 x146 x146 x146 x13 x13 x13 x206 x206 x220 x206 x206 x206 x185 x185 x185 x185 x185 x149 x149 x160 x160 x88 x225 x36 x36 x65 x65 x225 x85 x85 x85 x85 x85 x13 x13 x13 x13 x13 x13 x13 x13 x206 x206 x206 x206 x185 x91 x13 x65 x65 x1...   \n",
       "636  x147 x88 x241 x40 x88 x88 x88 x88 x88 x40 x220 x220 x220 x7 x229 x50 x119 x119 x119 x119 x188 x88 x88 x188 x40 x188 x88 x88 x88 x88 x7 x220 x220 x220 x195 x40 x119 x188 x88 x88 x88 x88 x206 x206 x206 x88 x119 x119 x88 x88 x16 x16 x206 x206 x206 x206 x119 x50 x120 x119 x119 x119 x119 x119 x88 x88 x88 x88 x88 x188 x88 x88 x88 x206 x206 x206 x146 x146 x65 x119 x88 x88 x110 x146 x88 x88 x88 x88 x88 x16 x16 x16 x16 x16 x16 x16 x16 x16 x16 x225 x225 x65 x119 x88 x88 x88 x88 x110 x110 x110 x110 x88 x88 x88 x110 x110 x110 x110 x110 x206 x88 x200 x70 x110 x110 x16 x16 x16 x16 x16 x206 x206 x110 x11...   \n",
       "637  x23 x146 x65 x65 x119 x119 x119 x119 x119 x119 x119 x119 x119 x119 x119 x119 x119 x119 x13 x189 x119 x65 x65 x65 x146 x146 x146 x146 x146 x88 x88 x88 x119 x119 x119 x119 x88 x88 x88 x88 x88 x119 x119 x88 x88 x88 x206 x206 x220 x206 x88 x88 x119 x88 x146 x109 x109 x109 x109 x170 x170 x65 x65 x65 x65 x65 x225 x119 x13 x88 x88 x88 x188 x88 x88 x7 x7 x7 x7 x7 x7 x188 x200 x188 x88 x88 x88 x42 x42 x42 x42 x7 x7 x7 x42 x42 x42 x49 x176 x176 x88 x65 x65 x146 x146 x146 x88 x88 x88 x16 x16 x88 x88 x16 x16 x42 x150 x150 x64 x64 x42 x13 x13 x16 x16 x81 x81 x81 x150 x150 x42 x220 x220 x81 x150 x64 x64...   \n",
       "638  x18 x149 x30 x193 x225 x189 x189 x193 x193 x193 x193 x30 x30 x30 x30 x30 x30 x30 x30 x30 x30 x30 x30 x30 x30 x30 x30 x30 x149 x47 x149 x30 x30 x30 x30 x30 x30 x74 x193 x193 x193 x30 x190 x173 x173 x173 x4 x30 x30 x30 x4 x4 x4 x30 x30 x4 x193 x193 x193 x30 x30 x30 x30 x47 x160 x160 x160 x91 x68 x4 x193 x193 x4 x4 x4 x4 x4 x68 x68 x68 x158 x160 x68 x68 x68 x68 x68 x68 x68 x158 x91 x91 x4 x30 x91 x30 x193 x193 x4 x4 x68 x68 x68 x68 x68 x4 x4 x4 x30 x30 x189 x189 x40 x171 x171 x171 x171 x171 x171 x171 x171 x171 x171 x171 x171 x171 x171 x4 x171 x171 x171 x115 x149 x149 x171 x230 x149 x149 x149 ...   \n",
       "\n",
       "    genre  is_valid  \n",
       "634  rock         1  \n",
       "635  rock         1  \n",
       "636  rock         1  \n",
       "637  rock         1  \n",
       "638  rock         1  "
      ]
     },
     "execution_count": 3,
     "metadata": {},
     "output_type": "execute_result"
    }
   ],
   "source": [
    "ds_name = 'train_val_data.csv'\n",
    "df = pd.read_csv(ds_name)\n",
    "df.tail()"
   ]
  },
  {
   "cell_type": "markdown",
   "metadata": {},
   "source": [
    "### Train AWD-LSTM LM (with fastai) v2 on the codeword sequences"
   ]
  },
  {
   "cell_type": "code",
   "execution_count": 4,
   "metadata": {},
   "outputs": [
    {
     "data": {
      "text/html": [],
      "text/plain": [
       "<IPython.core.display.HTML object>"
      ]
     },
     "metadata": {},
     "output_type": "display_data"
    },
    {
     "name": "stderr",
     "output_type": "stream",
     "text": [
      "/home/alu/anaconda3/lib/python3.8/site-packages/numpy/core/_asarray.py:83: VisibleDeprecationWarning: Creating an ndarray from ragged nested sequences (which is a list-or-tuple of lists-or-tuples-or ndarrays with different lengths or shapes) is deprecated. If you meant to do this, you must specify 'dtype=object' when creating the ndarray\n",
      "  return array(a, dtype, copy=False, order=order)\n"
     ]
    }
   ],
   "source": [
    "dls = TextDataLoaders.from_df(df, path='./', text_col='codewords', is_lm=True, val_col='is_valid') # bs=64 by default"
   ]
  },
  {
   "cell_type": "code",
   "execution_count": 5,
   "metadata": {},
   "outputs": [
    {
     "data": {
      "text/html": [
       "<table border=\"1\" class=\"dataframe\">\n",
       "  <thead>\n",
       "    <tr style=\"text-align: right;\">\n",
       "      <th></th>\n",
       "      <th>text</th>\n",
       "      <th>text_</th>\n",
       "    </tr>\n",
       "  </thead>\n",
       "  <tbody>\n",
       "    <tr>\n",
       "      <th>0</th>\n",
       "      <td>xxbos xxwrep 19 x65 x169 x169 x169 x120 xxwrep 5 x65 x169 xxwrep 3 x169 x70 x70 x70 x169 xxwrep 4 x65 x70 xxwrep 7 x70 x110 x146 x65 x146 xxwrep 3 x70 x110 x70 x70 x110 xxwrep 4 x70 x65 x146 x146 xxwrep 4 x70 x120 x120 x70 x70 x169 x169 x65 x65 x146 xxwrep 4 x70 x120 x120 x120 xxwrep 4 x70 x65 x65 xxwrep 3 x146 x85 x169 x169</td>\n",
       "      <td>xxwrep 19 x65 x169 x169 x169 x120 xxwrep 5 x65 x169 xxwrep 3 x169 x70 x70 x70 x169 xxwrep 4 x65 x70 xxwrep 7 x70 x110 x146 x65 x146 xxwrep 3 x70 x110 x70 x70 x110 xxwrep 4 x70 x65 x146 x146 xxwrep 4 x70 x120 x120 x70 x70 x169 x169 x65 x65 x146 xxwrep 4 x70 x120 x120 x120 xxwrep 4 x70 x65 x65 xxwrep 3 x146 x85 x169 x169 xxwrep</td>\n",
       "    </tr>\n",
       "    <tr>\n",
       "      <th>1</th>\n",
       "      <td>x206 xxwrep 3 x252 x206 x252 x252 x88 x252 x220 x185 x252 x188 x188 x110 x170 x170 x188 x60 x200 x200 x179 x179 x13 x13 x220 x185 x206 x188 x60 x200 x179 x170 x88 x40 x7 x7 x252 x220 x220 x188 x225 x119 x119 x13 x13 x206 x88 x7 x206 x206 xxwrep 3 x13 x88 x40 x7 x88 x188 x188 x88 x252 x7 x88 x170 xxwrep 3 x231 x119 x119 x88 xxwrep</td>\n",
       "      <td>xxwrep 3 x252 x206 x252 x252 x88 x252 x220 x185 x252 x188 x188 x110 x170 x170 x188 x60 x200 x200 x179 x179 x13 x13 x220 x185 x206 x188 x60 x200 x179 x170 x88 x40 x7 x7 x252 x220 x220 x188 x225 x119 x119 x13 x13 x206 x88 x7 x206 x206 xxwrep 3 x13 x88 x40 x7 x88 x188 x188 x88 x252 x7 x88 x170 xxwrep 3 x231 x119 x119 x88 xxwrep 3</td>\n",
       "    </tr>\n",
       "    <tr>\n",
       "      <th>2</th>\n",
       "      <td>4 x189 x206 x189 x40 x185 x91 x189 x225 xxwrep 3 x36 x235 x65 x120 xxwrep 3 x85 x179 xxwrep 4 x13 x119 x82 x119 x231 x54 x82 x82 xxwrep 4 x189 x40 xxwrep 3 x119 x188 x88 x88 x206 x206 x220 x220 x42 x64 x64 x42 x206 x40 x40 x206 x185 x5 x206 x13 xxwrep 3 x189 x85 x225 x127 x65 xxwrep 4 x146 x13 x13 x13 x119 x119 x85 x119</td>\n",
       "      <td>x189 x206 x189 x40 x185 x91 x189 x225 xxwrep 3 x36 x235 x65 x120 xxwrep 3 x85 x179 xxwrep 4 x13 x119 x82 x119 x231 x54 x82 x82 xxwrep 4 x189 x40 xxwrep 3 x119 x188 x88 x88 x206 x206 x220 x220 x42 x64 x64 x42 x206 x40 x40 x206 x185 x5 x206 x13 xxwrep 3 x189 x85 x225 x127 x65 xxwrep 4 x146 x13 x13 x13 x119 x119 x85 x119 x119</td>\n",
       "    </tr>\n",
       "    <tr>\n",
       "      <th>3</th>\n",
       "      <td>x82 x225 x235 x225 x225 xxwrep 6 x82 x25 x25 x174 x174 x238 x24 x32 x238 x174 x25 x119 x174 x40 x40 x24 x24 x32 x174 x25 x119 x24 x40 x40 x171 x204 x204 x119 x50 x65 x225 x225 x119 xxwrep 3 x189 x82 xxwrep 3 x25 x241 x40 xxwrep 3 x32 x241 xxwrep 3 x119 x189 xxwrep 4 x40 x189 x85 x243 x243 xxwrep 4 x241 x199 x119 xxwrep 3 x65</td>\n",
       "      <td>x225 x235 x225 x225 xxwrep 6 x82 x25 x25 x174 x174 x238 x24 x32 x238 x174 x25 x119 x174 x40 x40 x24 x24 x32 x174 x25 x119 x24 x40 x40 x171 x204 x204 x119 x50 x65 x225 x225 x119 xxwrep 3 x189 x82 xxwrep 3 x25 x241 x40 xxwrep 3 x32 x241 xxwrep 3 x119 x189 xxwrep 4 x40 x189 x85 x243 x243 xxwrep 4 x241 x199 x119 xxwrep 3 x65 x85</td>\n",
       "    </tr>\n",
       "    <tr>\n",
       "      <th>4</th>\n",
       "      <td>x8 x36 x50 x82 x82 x174 x231 x231 x119 x65 x45 xxwrep 6 x54 x170 x20 x127 x127 x146 x188 x253 x252 x252 x117 x117 xxwrep 3 x170 x206 x33 x141 x7 x231 x95 x186 x188 x8 x8 x218 x146 x23 x206 x185 x149 x19 x91 x146 x119 x80 x141 x149 x149 x133 x19 x19 x150 x65 x65 x114 x146 x170 x206 x242 x81 x81 x9 xxwrep 4 x206 x149 x177 x176</td>\n",
       "      <td>x36 x50 x82 x82 x174 x231 x231 x119 x65 x45 xxwrep 6 x54 x170 x20 x127 x127 x146 x188 x253 x252 x252 x117 x117 xxwrep 3 x170 x206 x33 x141 x7 x231 x95 x186 x188 x8 x8 x218 x146 x23 x206 x185 x149 x19 x91 x146 x119 x80 x141 x149 x149 x133 x19 x19 x150 x65 x65 x114 x146 x170 x206 x242 x81 x81 x9 xxwrep 4 x206 x149 x177 x176 x19</td>\n",
       "    </tr>\n",
       "    <tr>\n",
       "      <th>5</th>\n",
       "      <td>x63 x201 x201 x226 x22 x22 x209 x63 x63 x31 x63 x63 x226 x226 x157 x79 x157 x157 x22 xxwrep 4 x34 x9 xxwrep 10 x9 x240 x63 x128 x48 xxwrep 4 x128 x182 xxwrep 3 x254 x157 x157 xxwrep 4 x151 x226 xxwrep 3 x226 x201 x63 x48 x79 x79 x254 x128 x128 x182 x254 x182 xxwrep 5 x151 x157 x157 xxwrep 3 x22 x209 x22 xxwrep 4 x157 x22 x22</td>\n",
       "      <td>x201 x201 x226 x22 x22 x209 x63 x63 x31 x63 x63 x226 x226 x157 x79 x157 x157 x22 xxwrep 4 x34 x9 xxwrep 10 x9 x240 x63 x128 x48 xxwrep 4 x128 x182 xxwrep 3 x254 x157 x157 xxwrep 4 x151 x226 xxwrep 3 x226 x201 x63 x48 x79 x79 x254 x128 x128 x182 x254 x182 xxwrep 5 x151 x157 x157 xxwrep 3 x22 x209 x22 xxwrep 4 x157 x22 x22 x23</td>\n",
       "    </tr>\n",
       "    <tr>\n",
       "      <th>6</th>\n",
       "      <td>x119 x188 x16 x81 x81 x219 x125 xxwrep 3 x97 x154 xxwrep 3 x205 x76 x76 x205 xxwrep 8 x69 x76 x225 x36 x65 x146 xxwrep 3 x212 x206 x206 x37 x37 xxwrep 4 x158 x68 xxwrep 7 x158 x91 x91 x91 x206 x189 x82 x169 x169 xxwrep 4 x235 x65 x65 xxwrep 3 x146 x65 x65 x65 xxwrep 5 x235 x82 xxwrep 8 x85 x169 x36 x36 x169 x169 x225 xxwrep</td>\n",
       "      <td>x188 x16 x81 x81 x219 x125 xxwrep 3 x97 x154 xxwrep 3 x205 x76 x76 x205 xxwrep 8 x69 x76 x225 x36 x65 x146 xxwrep 3 x212 x206 x206 x37 x37 xxwrep 4 x158 x68 xxwrep 7 x158 x91 x91 x91 x206 x189 x82 x169 x169 xxwrep 4 x235 x65 x65 xxwrep 3 x146 x65 x65 x65 xxwrep 5 x235 x82 xxwrep 8 x85 x169 x36 x36 x169 x169 x225 xxwrep 12</td>\n",
       "    </tr>\n",
       "    <tr>\n",
       "      <th>7</th>\n",
       "      <td>x235 xxwrep 4 x85 x25 xxwrep 3 x25 x82 x225 x225 x119 x241 x241 x225 x82 x82 x25 x25 x169 x169 x243 x243 x241 x85 x225 x225 x241 x25 x82 x25 x50 x25 x25 x174 x82 x50 x82 x25 x243 x241 x241 x243 x243 x82 x189 x241 x241 x243 x243 xxwrep 5 x25 x173 xxwrep 3 x25 xxbos xxwrep 6 x138 x14 x43 x43 x175 x10 x46 xxwrep 6 x39 x23 x14</td>\n",
       "      <td>xxwrep 4 x85 x25 xxwrep 3 x25 x82 x225 x225 x119 x241 x241 x225 x82 x82 x25 x25 x169 x169 x243 x243 x241 x85 x225 x225 x241 x25 x82 x25 x50 x25 x25 x174 x82 x50 x82 x25 x243 x241 x241 x243 x243 x82 x189 x241 x241 x243 x243 xxwrep 5 x25 x173 xxwrep 3 x25 xxbos xxwrep 6 x138 x14 x43 x43 x175 x10 x46 xxwrep 6 x39 x23 x14 x14</td>\n",
       "    </tr>\n",
       "    <tr>\n",
       "      <th>8</th>\n",
       "      <td>x85 x119 x24 x195 x42 x33 x166 x42 x185 x188 x229 x229 x60 x200 x252 x252 x70 x70 x252 x13 x45 x50 x82 x24 x195 x42 x141 x166 x166 x149 x80 x188 x80 x150 x134 x134 x33 x33 x19 x104 x47 x221 x221 x152 xxwrep 5 x122 x51 x80 x146 x200 x16 x42 x42 x64 xxwrep 3 x176 x19 x19 x176 x152 x64 x220 x220 x7 x7 x231 x119 x127 x127 x146</td>\n",
       "      <td>x119 x24 x195 x42 x33 x166 x42 x185 x188 x229 x229 x60 x200 x252 x252 x70 x70 x252 x13 x45 x50 x82 x24 x195 x42 x141 x166 x166 x149 x80 x188 x80 x150 x134 x134 x33 x33 x19 x104 x47 x221 x221 x152 xxwrep 5 x122 x51 x80 x146 x200 x16 x42 x42 x64 xxwrep 3 x176 x19 x19 x176 x152 x64 x220 x220 x7 x7 x231 x119 x127 x127 x146 x119</td>\n",
       "    </tr>\n",
       "  </tbody>\n",
       "</table>"
      ],
      "text/plain": [
       "<IPython.core.display.HTML object>"
      ]
     },
     "metadata": {},
     "output_type": "display_data"
    }
   ],
   "source": [
    "dls.show_batch()"
   ]
  },
  {
   "cell_type": "code",
   "execution_count": 6,
   "metadata": {},
   "outputs": [],
   "source": [
    "learn = language_model_learner(dls, AWD_LSTM)\n",
    "learn.unfreeze()"
   ]
  },
  {
   "cell_type": "code",
   "execution_count": 7,
   "metadata": {},
   "outputs": [
    {
     "data": {
      "text/html": [],
      "text/plain": [
       "<IPython.core.display.HTML object>"
      ]
     },
     "metadata": {},
     "output_type": "display_data"
    },
    {
     "data": {
      "text/plain": [
       "SuggestedLRs(valley=0.0006918309954926372)"
      ]
     },
     "execution_count": 7,
     "metadata": {},
     "output_type": "execute_result"
    },
    {
     "data": {
      "image/png": "[encoded data removed]",
      "text/plain": [
       "<Figure size 432x288 with 1 Axes>"
      ]
     },
     "metadata": {
      "needs_background": "light"
     },
     "output_type": "display_data"
    }
   ],
   "source": [
    "learn.lr_find()"
   ]
  },
  {
   "cell_type": "code",
   "execution_count": 8,
   "metadata": {},
   "outputs": [
    {
     "data": {
      "text/html": [
       "<table border=\"1\" class=\"dataframe\">\n",
       "  <thead>\n",
       "    <tr style=\"text-align: left;\">\n",
       "      <th>epoch</th>\n",
       "      <th>train_loss</th>\n",
       "      <th>valid_loss</th>\n",
       "      <th>time</th>\n",
       "    </tr>\n",
       "  </thead>\n",
       "  <tbody>\n",
       "    <tr>\n",
       "      <td>0</td>\n",
       "      <td>4.516425</td>\n",
       "      <td>4.425802</td>\n",
       "      <td>00:23</td>\n",
       "    </tr>\n",
       "  </tbody>\n",
       "</table>"
      ],
      "text/plain": [
       "<IPython.core.display.HTML object>"
      ]
     },
     "metadata": {},
     "output_type": "display_data"
    }
   ],
   "source": [
    "bs = 64\n",
    "# lr = 1e-2\n",
    "lr = 1e-3\n",
    "# lr *= bs/48\n",
    "\n",
    "learn.fit_one_cycle(1, lr)"
   ]
  },
  {
   "cell_type": "code",
   "execution_count": 9,
   "metadata": {},
   "outputs": [
    {
     "data": {
      "text/html": [
       "<table border=\"1\" class=\"dataframe\">\n",
       "  <thead>\n",
       "    <tr style=\"text-align: left;\">\n",
       "      <th>epoch</th>\n",
       "      <th>train_loss</th>\n",
       "      <th>valid_loss</th>\n",
       "      <th>time</th>\n",
       "    </tr>\n",
       "  </thead>\n",
       "  <tbody>\n",
       "    <tr>\n",
       "      <td>0</td>\n",
       "      <td>4.357814</td>\n",
       "      <td>4.518640</td>\n",
       "      <td>00:22</td>\n",
       "    </tr>\n",
       "    <tr>\n",
       "      <td>1</td>\n",
       "      <td>3.985635</td>\n",
       "      <td>3.791252</td>\n",
       "      <td>00:23</td>\n",
       "    </tr>\n",
       "    <tr>\n",
       "      <td>2</td>\n",
       "      <td>3.398251</td>\n",
       "      <td>3.157612</td>\n",
       "      <td>00:23</td>\n",
       "    </tr>\n",
       "    <tr>\n",
       "      <td>3</td>\n",
       "      <td>2.920792</td>\n",
       "      <td>2.747800</td>\n",
       "      <td>00:23</td>\n",
       "    </tr>\n",
       "    <tr>\n",
       "      <td>4</td>\n",
       "      <td>2.737546</td>\n",
       "      <td>2.664410</td>\n",
       "      <td>00:23</td>\n",
       "    </tr>\n",
       "    <tr>\n",
       "      <td>5</td>\n",
       "      <td>2.631451</td>\n",
       "      <td>2.604373</td>\n",
       "      <td>00:22</td>\n",
       "    </tr>\n",
       "    <tr>\n",
       "      <td>6</td>\n",
       "      <td>2.576051</td>\n",
       "      <td>2.550484</td>\n",
       "      <td>00:23</td>\n",
       "    </tr>\n",
       "    <tr>\n",
       "      <td>7</td>\n",
       "      <td>2.551800</td>\n",
       "      <td>2.521546</td>\n",
       "      <td>00:23</td>\n",
       "    </tr>\n",
       "    <tr>\n",
       "      <td>8</td>\n",
       "      <td>2.510392</td>\n",
       "      <td>2.503356</td>\n",
       "      <td>00:22</td>\n",
       "    </tr>\n",
       "    <tr>\n",
       "      <td>9</td>\n",
       "      <td>2.484376</td>\n",
       "      <td>2.482542</td>\n",
       "      <td>00:23</td>\n",
       "    </tr>\n",
       "    <tr>\n",
       "      <td>10</td>\n",
       "      <td>2.463038</td>\n",
       "      <td>2.469809</td>\n",
       "      <td>00:23</td>\n",
       "    </tr>\n",
       "    <tr>\n",
       "      <td>11</td>\n",
       "      <td>2.439466</td>\n",
       "      <td>2.457749</td>\n",
       "      <td>00:23</td>\n",
       "    </tr>\n",
       "    <tr>\n",
       "      <td>12</td>\n",
       "      <td>2.434727</td>\n",
       "      <td>2.453023</td>\n",
       "      <td>00:22</td>\n",
       "    </tr>\n",
       "    <tr>\n",
       "      <td>13</td>\n",
       "      <td>2.412151</td>\n",
       "      <td>2.450650</td>\n",
       "      <td>00:23</td>\n",
       "    </tr>\n",
       "    <tr>\n",
       "      <td>14</td>\n",
       "      <td>2.425356</td>\n",
       "      <td>2.450269</td>\n",
       "      <td>00:21</td>\n",
       "    </tr>\n",
       "  </tbody>\n",
       "</table>"
      ],
      "text/plain": [
       "<IPython.core.display.HTML object>"
      ]
     },
     "metadata": {},
     "output_type": "display_data"
    },
    {
     "data": {
      "image/png": "[encoded data removed]",
      "text/plain": [
       "<Figure size 432x288 with 1 Axes>"
      ]
     },
     "metadata": {},
     "output_type": "display_data"
    }
   ],
   "source": [
    "learn.fit_one_cycle(15, lr, cbs=[ShowGraphCallback()])"
   ]
  },
  {
   "cell_type": "code",
   "execution_count": null,
   "metadata": {},
   "outputs": [],
   "source": [
    "# learn.fit_one_cycle(5, lr, cbs=[ShowGraphCallback()])"
   ]
  },
  {
   "cell_type": "code",
   "execution_count": 10,
   "metadata": {},
   "outputs": [],
   "source": [
    "learn.to_fp32().save_encoder('codeword_lm')"
   ]
  },
  {
   "cell_type": "code",
   "execution_count": 11,
   "metadata": {},
   "outputs": [
    {
     "data": {
      "text/html": [],
      "text/plain": [
       "<IPython.core.display.HTML object>"
      ]
     },
     "metadata": {},
     "output_type": "display_data"
    },
    {
     "data": {
      "text/plain": [
       "SequentialRNN (Input shape: 64 x 72)\n",
       "============================================================================\n",
       "Layer (type)         Output Shape         Param #    Trainable \n",
       "============================================================================\n",
       "                     64 x 72 x 1152      \n",
       "LSTM                                                           \n",
       "LSTM                                                           \n",
       "____________________________________________________________________________\n",
       "                     64 x 72 x 400       \n",
       "LSTM                                                           \n",
       "RNNDropout                                                     \n",
       "RNNDropout                                                     \n",
       "RNNDropout                                                     \n",
       "____________________________________________________________________________\n",
       "                     64 x 72 x 328       \n",
       "Linear                                    131528     True      \n",
       "RNNDropout                                                     \n",
       "____________________________________________________________________________\n",
       "\n",
       "Total params: 131,528\n",
       "Total trainable params: 131,528\n",
       "Total non-trainable params: 0\n",
       "\n",
       "Optimizer used: <function Adam at 0x7f5efebcf310>\n",
       "Loss function: FlattenedLoss of CrossEntropyLoss()\n",
       "\n",
       "Model unfrozen\n",
       "\n",
       "Callbacks:\n",
       "  - TrainEvalCallback\n",
       "  - ModelResetter\n",
       "  - RNNCallback\n",
       "  - Recorder\n",
       "  - ProgressCallback"
      ]
     },
     "execution_count": 11,
     "metadata": {},
     "output_type": "execute_result"
    }
   ],
   "source": [
    "learn.summary()"
   ]
  },
  {
   "cell_type": "markdown",
   "metadata": {},
   "source": [
    "### AWD-LSTM architecture"
   ]
  },
  {
   "cell_type": "code",
   "execution_count": 12,
   "metadata": {},
   "outputs": [
    {
     "data": {
      "text/plain": [
       "AWD_LSTM(\n",
       "  (encoder): Embedding(328, 400, padding_idx=1)\n",
       "  (encoder_dp): EmbeddingDropout(\n",
       "    (emb): Embedding(328, 400, padding_idx=1)\n",
       "  )\n",
       "  (rnns): ModuleList(\n",
       "    (0): WeightDropout(\n",
       "      (module): LSTM(400, 1152, batch_first=True)\n",
       "    )\n",
       "    (1): WeightDropout(\n",
       "      (module): LSTM(1152, 1152, batch_first=True)\n",
       "    )\n",
       "    (2): WeightDropout(\n",
       "      (module): LSTM(1152, 400, batch_first=True)\n",
       "    )\n",
       "  )\n",
       "  (input_dp): RNNDropout()\n",
       "  (hidden_dps): ModuleList(\n",
       "    (0): RNNDropout()\n",
       "    (1): RNNDropout()\n",
       "    (2): RNNDropout()\n",
       "  )\n",
       ")"
      ]
     },
     "execution_count": 12,
     "metadata": {},
     "output_type": "execute_result"
    }
   ],
   "source": [
    "learn.model[0]"
   ]
  },
  {
   "cell_type": "markdown",
   "metadata": {},
   "source": [
    "### Finetune AWD-LSTM classifier on GTZAN genre training labels"
   ]
  },
  {
   "cell_type": "code",
   "execution_count": 8,
   "metadata": {},
   "outputs": [],
   "source": [
    "train_df = pd.read_csv('train_val_data.csv')"
   ]
  },
  {
   "cell_type": "code",
   "execution_count": 9,
   "metadata": {},
   "outputs": [
    {
     "data": {
      "text/html": [
       "<div>\n",
       "<style scoped>\n",
       "    .dataframe tbody tr th:only-of-type {\n",
       "        vertical-align: middle;\n",
       "    }\n",
       "\n",
       "    .dataframe tbody tr th {\n",
       "        vertical-align: top;\n",
       "    }\n",
       "\n",
       "    .dataframe thead th {\n",
       "        text-align: right;\n",
       "    }\n",
       "</style>\n",
       "<table border=\"1\" class=\"dataframe\">\n",
       "  <thead>\n",
       "    <tr style=\"text-align: right;\">\n",
       "      <th></th>\n",
       "      <th>audio_id</th>\n",
       "      <th>codeword_indices</th>\n",
       "      <th>codewords</th>\n",
       "      <th>genre</th>\n",
       "      <th>is_valid</th>\n",
       "    </tr>\n",
       "  </thead>\n",
       "  <tbody>\n",
       "    <tr>\n",
       "      <th>634</th>\n",
       "      <td>rock.00081.wav</td>\n",
       "      <td>[119, 119, 119, 119, 119, 119, 119, 119, 119, 119, 119, 119, 241, 241, 40, 40, 40, 40, 40, 220, 220, 220, 119, 225, 225, 65, 225, 225, 119, 119, 88, 88, 206, 88, 88, 40, 40, 40, 40, 220, 185, 185, 185, 206, 88, 119, 88, 88, 88, 88, 206, 206, 206, 206, 88, 119, 119, 231, 40, 40, 40, 241, 241, 40, 40, 25, 50, 36, 36, 50, 50, 50, 169, 82, 119, 119, 120, 169, 36, 235, 235, 169, 225, 45, 119, 225, 225, 120, 120, 120, 169, 169, 169, 85, 85, 241, 241, 241, 241, 189, 85, 85, 189, 189, 189, 189, 189, 189, 189, 225, 225, 225, 225, 225, 225, 85, 206, 206, 206, 30, 30, 30, 91, 91, 91, 91, 91, 91, 91, ...</td>\n",
       "      <td>x119 x119 x119 x119 x119 x119 x119 x119 x119 x119 x119 x119 x241 x241 x40 x40 x40 x40 x40 x220 x220 x220 x119 x225 x225 x65 x225 x225 x119 x119 x88 x88 x206 x88 x88 x40 x40 x40 x40 x220 x185 x185 x185 x206 x88 x119 x88 x88 x88 x88 x206 x206 x206 x206 x88 x119 x119 x231 x40 x40 x40 x241 x241 x40 x40 x25 x50 x36 x36 x50 x50 x50 x169 x82 x119 x119 x120 x169 x36 x235 x235 x169 x225 x45 x119 x225 x225 x120 x120 x120 x169 x169 x169 x85 x85 x241 x241 x241 x241 x189 x85 x85 x189 x189 x189 x189 x189 x189 x189 x225 x225 x225 x225 x225 x225 x85 x206 x206 x206 x30 x30 x30 x91 x91 x91 x91 x91 x91 x91 x...</td>\n",
       "      <td>rock</td>\n",
       "      <td>1</td>\n",
       "    </tr>\n",
       "    <tr>\n",
       "      <th>635</th>\n",
       "      <td>rock.00082.wav</td>\n",
       "      <td>[145, 65, 146, 146, 146, 70, 70, 13, 13, 206, 206, 206, 110, 13, 13, 206, 91, 91, 39, 212, 190, 206, 91, 91, 185, 119, 229, 120, 120, 85, 85, 85, 85, 85, 85, 85, 13, 13, 13, 13, 13, 189, 189, 189, 189, 189, 189, 189, 189, 189, 189, 85, 50, 36, 36, 235, 235, 235, 235, 85, 85, 13, 13, 13, 13, 13, 85, 85, 119, 82, 82, 82, 82, 82, 82, 82, 173, 189, 82, 25, 120, 146, 146, 146, 146, 146, 13, 13, 13, 206, 206, 220, 206, 206, 206, 185, 185, 185, 185, 185, 149, 149, 160, 160, 88, 225, 36, 36, 65, 65, 225, 85, 85, 85, 85, 85, 13, 13, 13, 13, 13, 13, 13, 13, 206, 206, 206, 206, 185, 91, 13, 65, 65, 1...</td>\n",
       "      <td>x145 x65 x146 x146 x146 x70 x70 x13 x13 x206 x206 x206 x110 x13 x13 x206 x91 x91 x39 x212 x190 x206 x91 x91 x185 x119 x229 x120 x120 x85 x85 x85 x85 x85 x85 x85 x13 x13 x13 x13 x13 x189 x189 x189 x189 x189 x189 x189 x189 x189 x189 x85 x50 x36 x36 x235 x235 x235 x235 x85 x85 x13 x13 x13 x13 x13 x85 x85 x119 x82 x82 x82 x82 x82 x82 x82 x173 x189 x82 x25 x120 x146 x146 x146 x146 x146 x13 x13 x13 x206 x206 x220 x206 x206 x206 x185 x185 x185 x185 x185 x149 x149 x160 x160 x88 x225 x36 x36 x65 x65 x225 x85 x85 x85 x85 x85 x13 x13 x13 x13 x13 x13 x13 x13 x206 x206 x206 x206 x185 x91 x13 x65 x65 x1...</td>\n",
       "      <td>rock</td>\n",
       "      <td>1</td>\n",
       "    </tr>\n",
       "    <tr>\n",
       "      <th>636</th>\n",
       "      <td>rock.00083.wav</td>\n",
       "      <td>[147, 88, 241, 40, 88, 88, 88, 88, 88, 40, 220, 220, 220, 7, 229, 50, 119, 119, 119, 119, 188, 88, 88, 188, 40, 188, 88, 88, 88, 88, 7, 220, 220, 220, 195, 40, 119, 188, 88, 88, 88, 88, 206, 206, 206, 88, 119, 119, 88, 88, 16, 16, 206, 206, 206, 206, 119, 50, 120, 119, 119, 119, 119, 119, 88, 88, 88, 88, 88, 188, 88, 88, 88, 206, 206, 206, 146, 146, 65, 119, 88, 88, 110, 146, 88, 88, 88, 88, 88, 16, 16, 16, 16, 16, 16, 16, 16, 16, 16, 225, 225, 65, 119, 88, 88, 88, 88, 110, 110, 110, 110, 88, 88, 88, 110, 110, 110, 110, 110, 206, 88, 200, 70, 110, 110, 16, 16, 16, 16, 16, 206, 206, 110, 11...</td>\n",
       "      <td>x147 x88 x241 x40 x88 x88 x88 x88 x88 x40 x220 x220 x220 x7 x229 x50 x119 x119 x119 x119 x188 x88 x88 x188 x40 x188 x88 x88 x88 x88 x7 x220 x220 x220 x195 x40 x119 x188 x88 x88 x88 x88 x206 x206 x206 x88 x119 x119 x88 x88 x16 x16 x206 x206 x206 x206 x119 x50 x120 x119 x119 x119 x119 x119 x88 x88 x88 x88 x88 x188 x88 x88 x88 x206 x206 x206 x146 x146 x65 x119 x88 x88 x110 x146 x88 x88 x88 x88 x88 x16 x16 x16 x16 x16 x16 x16 x16 x16 x16 x225 x225 x65 x119 x88 x88 x88 x88 x110 x110 x110 x110 x88 x88 x88 x110 x110 x110 x110 x110 x206 x88 x200 x70 x110 x110 x16 x16 x16 x16 x16 x206 x206 x110 x11...</td>\n",
       "      <td>rock</td>\n",
       "      <td>1</td>\n",
       "    </tr>\n",
       "    <tr>\n",
       "      <th>637</th>\n",
       "      <td>rock.00084.wav</td>\n",
       "      <td>[23, 146, 65, 65, 119, 119, 119, 119, 119, 119, 119, 119, 119, 119, 119, 119, 119, 119, 13, 189, 119, 65, 65, 65, 146, 146, 146, 146, 146, 88, 88, 88, 119, 119, 119, 119, 88, 88, 88, 88, 88, 119, 119, 88, 88, 88, 206, 206, 220, 206, 88, 88, 119, 88, 146, 109, 109, 109, 109, 170, 170, 65, 65, 65, 65, 65, 225, 119, 13, 88, 88, 88, 188, 88, 88, 7, 7, 7, 7, 7, 7, 188, 200, 188, 88, 88, 88, 42, 42, 42, 42, 7, 7, 7, 42, 42, 42, 49, 176, 176, 88, 65, 65, 146, 146, 146, 88, 88, 88, 16, 16, 88, 88, 16, 16, 42, 150, 150, 64, 64, 42, 13, 13, 16, 16, 81, 81, 81, 150, 150, 42, 220, 220, 81, 150, 64, 64...</td>\n",
       "      <td>x23 x146 x65 x65 x119 x119 x119 x119 x119 x119 x119 x119 x119 x119 x119 x119 x119 x119 x13 x189 x119 x65 x65 x65 x146 x146 x146 x146 x146 x88 x88 x88 x119 x119 x119 x119 x88 x88 x88 x88 x88 x119 x119 x88 x88 x88 x206 x206 x220 x206 x88 x88 x119 x88 x146 x109 x109 x109 x109 x170 x170 x65 x65 x65 x65 x65 x225 x119 x13 x88 x88 x88 x188 x88 x88 x7 x7 x7 x7 x7 x7 x188 x200 x188 x88 x88 x88 x42 x42 x42 x42 x7 x7 x7 x42 x42 x42 x49 x176 x176 x88 x65 x65 x146 x146 x146 x88 x88 x88 x16 x16 x88 x88 x16 x16 x42 x150 x150 x64 x64 x42 x13 x13 x16 x16 x81 x81 x81 x150 x150 x42 x220 x220 x81 x150 x64 x64...</td>\n",
       "      <td>rock</td>\n",
       "      <td>1</td>\n",
       "    </tr>\n",
       "    <tr>\n",
       "      <th>638</th>\n",
       "      <td>rock.00085.wav</td>\n",
       "      <td>[18, 149, 30, 193, 225, 189, 189, 193, 193, 193, 193, 30, 30, 30, 30, 30, 30, 30, 30, 30, 30, 30, 30, 30, 30, 30, 30, 30, 149, 47, 149, 30, 30, 30, 30, 30, 30, 74, 193, 193, 193, 30, 190, 173, 173, 173, 4, 30, 30, 30, 4, 4, 4, 30, 30, 4, 193, 193, 193, 30, 30, 30, 30, 47, 160, 160, 160, 91, 68, 4, 193, 193, 4, 4, 4, 4, 4, 68, 68, 68, 158, 160, 68, 68, 68, 68, 68, 68, 68, 158, 91, 91, 4, 30, 91, 30, 193, 193, 4, 4, 68, 68, 68, 68, 68, 4, 4, 4, 30, 30, 189, 189, 40, 171, 171, 171, 171, 171, 171, 171, 171, 171, 171, 171, 171, 171, 171, 4, 171, 171, 171, 115, 149, 149, 171, 230, 149, 149, 149,...</td>\n",
       "      <td>x18 x149 x30 x193 x225 x189 x189 x193 x193 x193 x193 x30 x30 x30 x30 x30 x30 x30 x30 x30 x30 x30 x30 x30 x30 x30 x30 x30 x149 x47 x149 x30 x30 x30 x30 x30 x30 x74 x193 x193 x193 x30 x190 x173 x173 x173 x4 x30 x30 x30 x4 x4 x4 x30 x30 x4 x193 x193 x193 x30 x30 x30 x30 x47 x160 x160 x160 x91 x68 x4 x193 x193 x4 x4 x4 x4 x4 x68 x68 x68 x158 x160 x68 x68 x68 x68 x68 x68 x68 x158 x91 x91 x4 x30 x91 x30 x193 x193 x4 x4 x68 x68 x68 x68 x68 x4 x4 x4 x30 x30 x189 x189 x40 x171 x171 x171 x171 x171 x171 x171 x171 x171 x171 x171 x171 x171 x171 x4 x171 x171 x171 x115 x149 x149 x171 x230 x149 x149 x149 ...</td>\n",
       "      <td>rock</td>\n",
       "      <td>1</td>\n",
       "    </tr>\n",
       "  </tbody>\n",
       "</table>\n",
       "</div>"
      ],
      "text/plain": [
       "           audio_id  \\\n",
       "634  rock.00081.wav   \n",
       "635  rock.00082.wav   \n",
       "636  rock.00083.wav   \n",
       "637  rock.00084.wav   \n",
       "638  rock.00085.wav   \n",
       "\n",
       "                                                                                                                                                                                                                                                                                                                                                                                                                                                                                                                                                                                                            codeword_indices  \\\n",
       "634  [119, 119, 119, 119, 119, 119, 119, 119, 119, 119, 119, 119, 241, 241, 40, 40, 40, 40, 40, 220, 220, 220, 119, 225, 225, 65, 225, 225, 119, 119, 88, 88, 206, 88, 88, 40, 40, 40, 40, 220, 185, 185, 185, 206, 88, 119, 88, 88, 88, 88, 206, 206, 206, 206, 88, 119, 119, 231, 40, 40, 40, 241, 241, 40, 40, 25, 50, 36, 36, 50, 50, 50, 169, 82, 119, 119, 120, 169, 36, 235, 235, 169, 225, 45, 119, 225, 225, 120, 120, 120, 169, 169, 169, 85, 85, 241, 241, 241, 241, 189, 85, 85, 189, 189, 189, 189, 189, 189, 189, 225, 225, 225, 225, 225, 225, 85, 206, 206, 206, 30, 30, 30, 91, 91, 91, 91, 91, 91, 91, ...   \n",
       "635  [145, 65, 146, 146, 146, 70, 70, 13, 13, 206, 206, 206, 110, 13, 13, 206, 91, 91, 39, 212, 190, 206, 91, 91, 185, 119, 229, 120, 120, 85, 85, 85, 85, 85, 85, 85, 13, 13, 13, 13, 13, 189, 189, 189, 189, 189, 189, 189, 189, 189, 189, 85, 50, 36, 36, 235, 235, 235, 235, 85, 85, 13, 13, 13, 13, 13, 85, 85, 119, 82, 82, 82, 82, 82, 82, 82, 173, 189, 82, 25, 120, 146, 146, 146, 146, 146, 13, 13, 13, 206, 206, 220, 206, 206, 206, 185, 185, 185, 185, 185, 149, 149, 160, 160, 88, 225, 36, 36, 65, 65, 225, 85, 85, 85, 85, 85, 13, 13, 13, 13, 13, 13, 13, 13, 206, 206, 206, 206, 185, 91, 13, 65, 65, 1...   \n",
       "636  [147, 88, 241, 40, 88, 88, 88, 88, 88, 40, 220, 220, 220, 7, 229, 50, 119, 119, 119, 119, 188, 88, 88, 188, 40, 188, 88, 88, 88, 88, 7, 220, 220, 220, 195, 40, 119, 188, 88, 88, 88, 88, 206, 206, 206, 88, 119, 119, 88, 88, 16, 16, 206, 206, 206, 206, 119, 50, 120, 119, 119, 119, 119, 119, 88, 88, 88, 88, 88, 188, 88, 88, 88, 206, 206, 206, 146, 146, 65, 119, 88, 88, 110, 146, 88, 88, 88, 88, 88, 16, 16, 16, 16, 16, 16, 16, 16, 16, 16, 225, 225, 65, 119, 88, 88, 88, 88, 110, 110, 110, 110, 88, 88, 88, 110, 110, 110, 110, 110, 206, 88, 200, 70, 110, 110, 16, 16, 16, 16, 16, 206, 206, 110, 11...   \n",
       "637  [23, 146, 65, 65, 119, 119, 119, 119, 119, 119, 119, 119, 119, 119, 119, 119, 119, 119, 13, 189, 119, 65, 65, 65, 146, 146, 146, 146, 146, 88, 88, 88, 119, 119, 119, 119, 88, 88, 88, 88, 88, 119, 119, 88, 88, 88, 206, 206, 220, 206, 88, 88, 119, 88, 146, 109, 109, 109, 109, 170, 170, 65, 65, 65, 65, 65, 225, 119, 13, 88, 88, 88, 188, 88, 88, 7, 7, 7, 7, 7, 7, 188, 200, 188, 88, 88, 88, 42, 42, 42, 42, 7, 7, 7, 42, 42, 42, 49, 176, 176, 88, 65, 65, 146, 146, 146, 88, 88, 88, 16, 16, 88, 88, 16, 16, 42, 150, 150, 64, 64, 42, 13, 13, 16, 16, 81, 81, 81, 150, 150, 42, 220, 220, 81, 150, 64, 64...   \n",
       "638  [18, 149, 30, 193, 225, 189, 189, 193, 193, 193, 193, 30, 30, 30, 30, 30, 30, 30, 30, 30, 30, 30, 30, 30, 30, 30, 30, 30, 149, 47, 149, 30, 30, 30, 30, 30, 30, 74, 193, 193, 193, 30, 190, 173, 173, 173, 4, 30, 30, 30, 4, 4, 4, 30, 30, 4, 193, 193, 193, 30, 30, 30, 30, 47, 160, 160, 160, 91, 68, 4, 193, 193, 4, 4, 4, 4, 4, 68, 68, 68, 158, 160, 68, 68, 68, 68, 68, 68, 68, 158, 91, 91, 4, 30, 91, 30, 193, 193, 4, 4, 68, 68, 68, 68, 68, 4, 4, 4, 30, 30, 189, 189, 40, 171, 171, 171, 171, 171, 171, 171, 171, 171, 171, 171, 171, 171, 171, 4, 171, 171, 171, 115, 149, 149, 171, 230, 149, 149, 149,...   \n",
       "\n",
       "                                                                                                                                                                                                                                                                                                                                                                                                                                                                                                                                                                                                                   codewords  \\\n",
       "634  x119 x119 x119 x119 x119 x119 x119 x119 x119 x119 x119 x119 x241 x241 x40 x40 x40 x40 x40 x220 x220 x220 x119 x225 x225 x65 x225 x225 x119 x119 x88 x88 x206 x88 x88 x40 x40 x40 x40 x220 x185 x185 x185 x206 x88 x119 x88 x88 x88 x88 x206 x206 x206 x206 x88 x119 x119 x231 x40 x40 x40 x241 x241 x40 x40 x25 x50 x36 x36 x50 x50 x50 x169 x82 x119 x119 x120 x169 x36 x235 x235 x169 x225 x45 x119 x225 x225 x120 x120 x120 x169 x169 x169 x85 x85 x241 x241 x241 x241 x189 x85 x85 x189 x189 x189 x189 x189 x189 x189 x225 x225 x225 x225 x225 x225 x85 x206 x206 x206 x30 x30 x30 x91 x91 x91 x91 x91 x91 x91 x...   \n",
       "635  x145 x65 x146 x146 x146 x70 x70 x13 x13 x206 x206 x206 x110 x13 x13 x206 x91 x91 x39 x212 x190 x206 x91 x91 x185 x119 x229 x120 x120 x85 x85 x85 x85 x85 x85 x85 x13 x13 x13 x13 x13 x189 x189 x189 x189 x189 x189 x189 x189 x189 x189 x85 x50 x36 x36 x235 x235 x235 x235 x85 x85 x13 x13 x13 x13 x13 x85 x85 x119 x82 x82 x82 x82 x82 x82 x82 x173 x189 x82 x25 x120 x146 x146 x146 x146 x146 x13 x13 x13 x206 x206 x220 x206 x206 x206 x185 x185 x185 x185 x185 x149 x149 x160 x160 x88 x225 x36 x36 x65 x65 x225 x85 x85 x85 x85 x85 x13 x13 x13 x13 x13 x13 x13 x13 x206 x206 x206 x206 x185 x91 x13 x65 x65 x1...   \n",
       "636  x147 x88 x241 x40 x88 x88 x88 x88 x88 x40 x220 x220 x220 x7 x229 x50 x119 x119 x119 x119 x188 x88 x88 x188 x40 x188 x88 x88 x88 x88 x7 x220 x220 x220 x195 x40 x119 x188 x88 x88 x88 x88 x206 x206 x206 x88 x119 x119 x88 x88 x16 x16 x206 x206 x206 x206 x119 x50 x120 x119 x119 x119 x119 x119 x88 x88 x88 x88 x88 x188 x88 x88 x88 x206 x206 x206 x146 x146 x65 x119 x88 x88 x110 x146 x88 x88 x88 x88 x88 x16 x16 x16 x16 x16 x16 x16 x16 x16 x16 x225 x225 x65 x119 x88 x88 x88 x88 x110 x110 x110 x110 x88 x88 x88 x110 x110 x110 x110 x110 x206 x88 x200 x70 x110 x110 x16 x16 x16 x16 x16 x206 x206 x110 x11...   \n",
       "637  x23 x146 x65 x65 x119 x119 x119 x119 x119 x119 x119 x119 x119 x119 x119 x119 x119 x119 x13 x189 x119 x65 x65 x65 x146 x146 x146 x146 x146 x88 x88 x88 x119 x119 x119 x119 x88 x88 x88 x88 x88 x119 x119 x88 x88 x88 x206 x206 x220 x206 x88 x88 x119 x88 x146 x109 x109 x109 x109 x170 x170 x65 x65 x65 x65 x65 x225 x119 x13 x88 x88 x88 x188 x88 x88 x7 x7 x7 x7 x7 x7 x188 x200 x188 x88 x88 x88 x42 x42 x42 x42 x7 x7 x7 x42 x42 x42 x49 x176 x176 x88 x65 x65 x146 x146 x146 x88 x88 x88 x16 x16 x88 x88 x16 x16 x42 x150 x150 x64 x64 x42 x13 x13 x16 x16 x81 x81 x81 x150 x150 x42 x220 x220 x81 x150 x64 x64...   \n",
       "638  x18 x149 x30 x193 x225 x189 x189 x193 x193 x193 x193 x30 x30 x30 x30 x30 x30 x30 x30 x30 x30 x30 x30 x30 x30 x30 x30 x30 x149 x47 x149 x30 x30 x30 x30 x30 x30 x74 x193 x193 x193 x30 x190 x173 x173 x173 x4 x30 x30 x30 x4 x4 x4 x30 x30 x4 x193 x193 x193 x30 x30 x30 x30 x47 x160 x160 x160 x91 x68 x4 x193 x193 x4 x4 x4 x4 x4 x68 x68 x68 x158 x160 x68 x68 x68 x68 x68 x68 x68 x158 x91 x91 x4 x30 x91 x30 x193 x193 x4 x4 x68 x68 x68 x68 x68 x4 x4 x4 x30 x30 x189 x189 x40 x171 x171 x171 x171 x171 x171 x171 x171 x171 x171 x171 x171 x171 x171 x4 x171 x171 x171 x115 x149 x149 x171 x230 x149 x149 x149 ...   \n",
       "\n",
       "    genre  is_valid  \n",
       "634  rock         1  \n",
       "635  rock         1  \n",
       "636  rock         1  \n",
       "637  rock         1  \n",
       "638  rock         1  "
      ]
     },
     "execution_count": 9,
     "metadata": {},
     "output_type": "execute_result"
    }
   ],
   "source": [
    "train_df.tail()"
   ]
  },
  {
   "cell_type": "code",
   "execution_count": 10,
   "metadata": {},
   "outputs": [
    {
     "data": {
      "text/html": [],
      "text/plain": [
       "<IPython.core.display.HTML object>"
      ]
     },
     "metadata": {},
     "output_type": "display_data"
    },
    {
     "name": "stderr",
     "output_type": "stream",
     "text": [
      "/home/alu/anaconda3/lib/python3.8/site-packages/numpy/core/_asarray.py:83: VisibleDeprecationWarning: Creating an ndarray from ragged nested sequences (which is a list-or-tuple of lists-or-tuples-or ndarrays with different lengths or shapes) is deprecated. If you meant to do this, you must specify 'dtype=object' when creating the ndarray\n",
      "  return array(a, dtype, copy=False, order=order)\n"
     ]
    }
   ],
   "source": [
    "dls_train = TextDataLoaders.from_df(train_df, text_col='codewords', label_col='genre')"
   ]
  },
  {
   "cell_type": "code",
   "execution_count": 11,
   "metadata": {},
   "outputs": [],
   "source": [
    "# Define our text classifier\n",
    "genre_learner = text_classifier_learner(dls_train, AWD_LSTM, drop_mult=0.5, metrics=[accuracy, Perplexity()])\n",
    "# Load the pretrained encoder\n",
    "genre_learner = genre_learner.load_encoder('codeword_lm')"
   ]
  },
  {
   "cell_type": "markdown",
   "metadata": {},
   "source": [
    "* https://docs.fast.ai/tutorial.text.html"
   ]
  },
  {
   "cell_type": "code",
   "execution_count": 23,
   "metadata": {},
   "outputs": [
    {
     "data": {
      "text/html": [
       "<table border=\"1\" class=\"dataframe\">\n",
       "  <thead>\n",
       "    <tr style=\"text-align: left;\">\n",
       "      <th>epoch</th>\n",
       "      <th>train_loss</th>\n",
       "      <th>valid_loss</th>\n",
       "      <th>accuracy</th>\n",
       "      <th>perplexity</th>\n",
       "      <th>time</th>\n",
       "    </tr>\n",
       "  </thead>\n",
       "  <tbody>\n",
       "    <tr>\n",
       "      <td>0</td>\n",
       "      <td>1.978652</td>\n",
       "      <td>1.823053</td>\n",
       "      <td>0.362205</td>\n",
       "      <td>6.190729</td>\n",
       "      <td>00:07</td>\n",
       "    </tr>\n",
       "  </tbody>\n",
       "</table>"
      ],
      "text/plain": [
       "<IPython.core.display.HTML object>"
      ]
     },
     "metadata": {},
     "output_type": "display_data"
    },
    {
     "data": {
      "image/png": "[encoded data removed]",
      "text/plain": [
       "<Figure size 432x288 with 1 Axes>"
      ]
     },
     "metadata": {},
     "output_type": "display_data"
    }
   ],
   "source": [
    "genre_learner.fit_one_cycle(1, 2e-2, cbs=[ShowGraphCallback()])"
   ]
  },
  {
   "cell_type": "code",
   "execution_count": 24,
   "metadata": {},
   "outputs": [
    {
     "data": {
      "text/html": [
       "<table border=\"1\" class=\"dataframe\">\n",
       "  <thead>\n",
       "    <tr style=\"text-align: left;\">\n",
       "      <th>epoch</th>\n",
       "      <th>train_loss</th>\n",
       "      <th>valid_loss</th>\n",
       "      <th>accuracy</th>\n",
       "      <th>perplexity</th>\n",
       "      <th>time</th>\n",
       "    </tr>\n",
       "  </thead>\n",
       "  <tbody>\n",
       "    <tr>\n",
       "      <td>0</td>\n",
       "      <td>1.614094</td>\n",
       "      <td>1.643149</td>\n",
       "      <td>0.472441</td>\n",
       "      <td>5.171426</td>\n",
       "      <td>00:08</td>\n",
       "    </tr>\n",
       "    <tr>\n",
       "      <td>1</td>\n",
       "      <td>1.457296</td>\n",
       "      <td>1.469687</td>\n",
       "      <td>0.464567</td>\n",
       "      <td>4.347874</td>\n",
       "      <td>00:08</td>\n",
       "    </tr>\n",
       "    <tr>\n",
       "      <td>2</td>\n",
       "      <td>1.274985</td>\n",
       "      <td>1.401895</td>\n",
       "      <td>0.535433</td>\n",
       "      <td>4.062891</td>\n",
       "      <td>00:08</td>\n",
       "    </tr>\n",
       "  </tbody>\n",
       "</table>"
      ],
      "text/plain": [
       "<IPython.core.display.HTML object>"
      ]
     },
     "metadata": {},
     "output_type": "display_data"
    },
    {
     "data": {
      "image/png": "[encoded data removed]",
      "text/plain": [
       "<Figure size 432x288 with 1 Axes>"
      ]
     },
     "metadata": {},
     "output_type": "display_data"
    }
   ],
   "source": [
    "# unfreeze the last two layers\n",
    "genre_learner.freeze_to(-2)\n",
    "genre_learner.fit_one_cycle(3, slice(1e-2/(2.6**4),1e-2),cbs=[ShowGraphCallback()])"
   ]
  },
  {
   "cell_type": "code",
   "execution_count": 28,
   "metadata": {},
   "outputs": [
    {
     "data": {
      "text/plain": [
       "Path('models/genre_learner.pth')"
      ]
     },
     "execution_count": 28,
     "metadata": {},
     "output_type": "execute_result"
    }
   ],
   "source": [
    "genre_learner.save('genre_learner')"
   ]
  },
  {
   "cell_type": "code",
   "execution_count": 12,
   "metadata": {},
   "outputs": [
    {
     "data": {
      "text/plain": [
       "<fastai.text.learner.TextLearner at 0x7ffa4f6cb0a0>"
      ]
     },
     "execution_count": 12,
     "metadata": {},
     "output_type": "execute_result"
    }
   ],
   "source": [
    "genre_learner.load('genre_learner')"
   ]
  },
  {
   "cell_type": "code",
   "execution_count": 13,
   "metadata": {},
   "outputs": [
    {
     "data": {
      "text/html": [
       "<table border=\"1\" class=\"dataframe\">\n",
       "  <thead>\n",
       "    <tr style=\"text-align: left;\">\n",
       "      <th>epoch</th>\n",
       "      <th>train_loss</th>\n",
       "      <th>valid_loss</th>\n",
       "      <th>accuracy</th>\n",
       "      <th>perplexity</th>\n",
       "      <th>time</th>\n",
       "    </tr>\n",
       "  </thead>\n",
       "  <tbody>\n",
       "    <tr>\n",
       "      <td>0</td>\n",
       "      <td>0.942100</td>\n",
       "      <td>0.896944</td>\n",
       "      <td>0.700787</td>\n",
       "      <td>2.452098</td>\n",
       "      <td>00:13</td>\n",
       "    </tr>\n",
       "    <tr>\n",
       "      <td>1</td>\n",
       "      <td>0.866705</td>\n",
       "      <td>0.853891</td>\n",
       "      <td>0.716535</td>\n",
       "      <td>2.348768</td>\n",
       "      <td>00:13</td>\n",
       "    </tr>\n",
       "    <tr>\n",
       "      <td>2</td>\n",
       "      <td>0.764396</td>\n",
       "      <td>0.809274</td>\n",
       "      <td>0.763780</td>\n",
       "      <td>2.246276</td>\n",
       "      <td>00:13</td>\n",
       "    </tr>\n",
       "  </tbody>\n",
       "</table>"
      ],
      "text/plain": [
       "<IPython.core.display.HTML object>"
      ]
     },
     "metadata": {},
     "output_type": "display_data"
    },
    {
     "data": {
      "image/png": "[encoded data removed]",
      "text/plain": [
       "<Figure size 432x288 with 1 Axes>"
      ]
     },
     "metadata": {},
     "output_type": "display_data"
    }
   ],
   "source": [
    "# unfreeze the last three layers\n",
    "genre_learner.freeze_to(-4)\n",
    "genre_learner.fit_one_cycle(3, slice(5e-3/(2.6**4),5e-3), cbs=[ShowGraphCallback()])"
   ]
  },
  {
   "cell_type": "code",
   "execution_count": 14,
   "metadata": {},
   "outputs": [
    {
     "data": {
      "text/html": [
       "<table border=\"1\" class=\"dataframe\">\n",
       "  <thead>\n",
       "    <tr style=\"text-align: left;\">\n",
       "      <th>epoch</th>\n",
       "      <th>train_loss</th>\n",
       "      <th>valid_loss</th>\n",
       "      <th>accuracy</th>\n",
       "      <th>perplexity</th>\n",
       "      <th>time</th>\n",
       "    </tr>\n",
       "  </thead>\n",
       "  <tbody>\n",
       "    <tr>\n",
       "      <td>0</td>\n",
       "      <td>0.581825</td>\n",
       "      <td>0.782658</td>\n",
       "      <td>0.732283</td>\n",
       "      <td>2.187278</td>\n",
       "      <td>00:13</td>\n",
       "    </tr>\n",
       "  </tbody>\n",
       "</table>"
      ],
      "text/plain": [
       "<IPython.core.display.HTML object>"
      ]
     },
     "metadata": {},
     "output_type": "display_data"
    },
    {
     "data": {
      "image/png": "[encoded data removed]",
      "text/plain": [
       "<Figure size 432x288 with 1 Axes>"
      ]
     },
     "metadata": {},
     "output_type": "display_data"
    }
   ],
   "source": [
    "genre_learner.freeze_to(-6)\n",
    "genre_learner.fit_one_cycle(1, slice(5e-3/(2.6**4),5e-3), cbs=[ShowGraphCallback()])"
   ]
  },
  {
   "cell_type": "code",
   "execution_count": 15,
   "metadata": {},
   "outputs": [
    {
     "data": {
      "text/html": [
       "<table border=\"1\" class=\"dataframe\">\n",
       "  <thead>\n",
       "    <tr style=\"text-align: left;\">\n",
       "      <th>epoch</th>\n",
       "      <th>train_loss</th>\n",
       "      <th>valid_loss</th>\n",
       "      <th>accuracy</th>\n",
       "      <th>perplexity</th>\n",
       "      <th>time</th>\n",
       "    </tr>\n",
       "  </thead>\n",
       "  <tbody>\n",
       "    <tr>\n",
       "      <td>0</td>\n",
       "      <td>0.444257</td>\n",
       "      <td>0.751517</td>\n",
       "      <td>0.740157</td>\n",
       "      <td>2.120213</td>\n",
       "      <td>00:13</td>\n",
       "    </tr>\n",
       "    <tr>\n",
       "      <td>1</td>\n",
       "      <td>0.414060</td>\n",
       "      <td>0.747784</td>\n",
       "      <td>0.755906</td>\n",
       "      <td>2.112314</td>\n",
       "      <td>00:13</td>\n",
       "    </tr>\n",
       "  </tbody>\n",
       "</table>"
      ],
      "text/plain": [
       "<IPython.core.display.HTML object>"
      ]
     },
     "metadata": {},
     "output_type": "display_data"
    },
    {
     "data": {
      "image/png": "[encoded data removed]",
      "text/plain": [
       "<Figure size 432x288 with 1 Axes>"
      ]
     },
     "metadata": {},
     "output_type": "display_data"
    }
   ],
   "source": [
    "# unfreeze the whole model\n",
    "genre_learner.unfreeze()\n",
    "genre_learner.fit_one_cycle(2, slice(1e-3/(2.6**4),1e-3), cbs=[ShowGraphCallback()])"
   ]
  },
  {
   "cell_type": "code",
   "execution_count": 16,
   "metadata": {
    "scrolled": true
   },
   "outputs": [
    {
     "data": {
      "text/html": [
       "<table border=\"1\" class=\"dataframe\">\n",
       "  <thead>\n",
       "    <tr style=\"text-align: left;\">\n",
       "      <th>epoch</th>\n",
       "      <th>train_loss</th>\n",
       "      <th>valid_loss</th>\n",
       "      <th>accuracy</th>\n",
       "      <th>perplexity</th>\n",
       "      <th>time</th>\n",
       "    </tr>\n",
       "  </thead>\n",
       "  <tbody>\n",
       "    <tr>\n",
       "      <td>0</td>\n",
       "      <td>0.360922</td>\n",
       "      <td>0.748450</td>\n",
       "      <td>0.763780</td>\n",
       "      <td>2.113721</td>\n",
       "      <td>00:13</td>\n",
       "    </tr>\n",
       "    <tr>\n",
       "      <td>1</td>\n",
       "      <td>0.339354</td>\n",
       "      <td>0.748582</td>\n",
       "      <td>0.755906</td>\n",
       "      <td>2.114001</td>\n",
       "      <td>00:13</td>\n",
       "    </tr>\n",
       "  </tbody>\n",
       "</table>"
      ],
      "text/plain": [
       "<IPython.core.display.HTML object>"
      ]
     },
     "metadata": {},
     "output_type": "display_data"
    },
    {
     "data": {
      "image/png": "[encoded data removed]",
      "text/plain": [
       "<Figure size 432x288 with 1 Axes>"
      ]
     },
     "metadata": {},
     "output_type": "display_data"
    }
   ],
   "source": [
    "genre_learner.fit_one_cycle(2, slice(1e-3/(2.6**4),1e-3), cbs=[ShowGraphCallback()])"
   ]
  },
  {
   "cell_type": "code",
   "execution_count": 30,
   "metadata": {},
   "outputs": [],
   "source": [
    "# genre_lea/rner.save('genre_learner')\n",
    "genre_learner.export('genre_classifier')"
   ]
  },
  {
   "cell_type": "code",
   "execution_count": 36,
   "metadata": {},
   "outputs": [],
   "source": [
    "genre_learner = load_learner('genre_classifier')"
   ]
  },
  {
   "cell_type": "markdown",
   "metadata": {},
   "source": [
    "### Apply the finetuned AWD-LSTM classfier on test data"
   ]
  },
  {
   "cell_type": "code",
   "execution_count": 17,
   "metadata": {},
   "outputs": [],
   "source": [
    "test_df = pd.read_csv('test_data.csv')"
   ]
  },
  {
   "cell_type": "code",
   "execution_count": 40,
   "metadata": {},
   "outputs": [
    {
     "data": {
      "text/plain": [
       "290"
      ]
     },
     "execution_count": 40,
     "metadata": {},
     "output_type": "execute_result"
    }
   ],
   "source": [
    "len(test_df)"
   ]
  },
  {
   "cell_type": "code",
   "execution_count": 39,
   "metadata": {},
   "outputs": [
    {
     "data": {
      "text/html": [
       "<div>\n",
       "<style scoped>\n",
       "    .dataframe tbody tr th:only-of-type {\n",
       "        vertical-align: middle;\n",
       "    }\n",
       "\n",
       "    .dataframe tbody tr th {\n",
       "        vertical-align: top;\n",
       "    }\n",
       "\n",
       "    .dataframe thead th {\n",
       "        text-align: right;\n",
       "    }\n",
       "</style>\n",
       "<table border=\"1\" class=\"dataframe\">\n",
       "  <thead>\n",
       "    <tr style=\"text-align: right;\">\n",
       "      <th></th>\n",
       "      <th>audio_id</th>\n",
       "      <th>codeword_indices</th>\n",
       "      <th>codewords</th>\n",
       "      <th>genre</th>\n",
       "      <th>is_valid</th>\n",
       "    </tr>\n",
       "  </thead>\n",
       "  <tbody>\n",
       "    <tr>\n",
       "      <th>285</th>\n",
       "      <td>rock.00086.wav</td>\n",
       "      <td>[119, 119, 119, 119, 60, 60, 119, 119, 119, 119, 119, 85, 169, 169, 119, 119, 119, 65, 225, 225, 225, 82, 82, 82, 174, 174, 82, 174, 54, 174, 174, 25, 169, 25, 25, 25, 174, 174, 174, 82, 174, 169, 169, 25, 85, 146, 146, 85, 241, 241, 82, 82, 119, 119, 85, 85, 189, 241, 241, 40, 241, 82, 82, 82, 82, 246, 189, 189, 189, 189, 82, 169, 169, 243, 241, 241, 241, 241, 241, 241, 241, 82, 82, 82, 82, 82, 82, 82, 246, 85, 85, 82, 241, 199, 199, 189, 212, 212, 212, 85, 85, 241, 241, 241, 241, 241, 199, 241, 82, 169, 25, 241, 241, 199, 199, 199, 199, 199, 241, 82, 82, 241, 241, 199, 199, 199, 171, 171...</td>\n",
       "      <td>x119 x119 x119 x119 x60 x60 x119 x119 x119 x119 x119 x85 x169 x169 x119 x119 x119 x65 x225 x225 x225 x82 x82 x82 x174 x174 x82 x174 x54 x174 x174 x25 x169 x25 x25 x25 x174 x174 x174 x82 x174 x169 x169 x25 x85 x146 x146 x85 x241 x241 x82 x82 x119 x119 x85 x85 x189 x241 x241 x40 x241 x82 x82 x82 x82 x246 x189 x189 x189 x189 x82 x169 x169 x243 x241 x241 x241 x241 x241 x241 x241 x82 x82 x82 x82 x82 x82 x82 x246 x85 x85 x82 x241 x199 x199 x189 x212 x212 x212 x85 x85 x241 x241 x241 x241 x241 x199 x241 x82 x169 x25 x241 x241 x199 x199 x199 x199 x199 x241 x82 x82 x241 x241 x199 x199 x199 x171 x171...</td>\n",
       "      <td>rock</td>\n",
       "      <td>0</td>\n",
       "    </tr>\n",
       "    <tr>\n",
       "      <th>286</th>\n",
       "      <td>rock.00087.wav</td>\n",
       "      <td>[146, 146, 146, 146, 146, 146, 109, 146, 65, 119, 119, 13, 13, 13, 13, 13, 85, 127, 127, 120, 120, 120, 119, 85, 85, 120, 169, 169, 163, 120, 85, 85, 85, 85, 13, 40, 50, 8, 8, 127, 65, 65, 119, 119, 119, 119, 119, 119, 229, 229, 119, 60, 24, 24, 24, 231, 60, 229, 229, 65, 119, 119, 188, 119, 119, 119, 119, 119, 119, 119, 188, 188, 188, 188, 119, 119, 50, 8, 36, 127, 65, 65, 119, 119, 119, 119, 25, 25, 119, 119, 119, 119, 119, 119, 119, 25, 229, 84, 120, 119, 188, 88, 80, 88, 231, 119, 60, 60, 119, 188, 231, 40, 40, 40, 231, 25, 8, 8, 36, 50, 225, 225, 225, 225, 82, 50, 127, 127, 229, 82, 8...</td>\n",
       "      <td>x146 x146 x146 x146 x146 x146 x109 x146 x65 x119 x119 x13 x13 x13 x13 x13 x85 x127 x127 x120 x120 x120 x119 x85 x85 x120 x169 x169 x163 x120 x85 x85 x85 x85 x13 x40 x50 x8 x8 x127 x65 x65 x119 x119 x119 x119 x119 x119 x229 x229 x119 x60 x24 x24 x24 x231 x60 x229 x229 x65 x119 x119 x188 x119 x119 x119 x119 x119 x119 x119 x188 x188 x188 x188 x119 x119 x50 x8 x36 x127 x65 x65 x119 x119 x119 x119 x25 x25 x119 x119 x119 x119 x119 x119 x119 x25 x229 x84 x120 x119 x188 x88 x80 x88 x231 x119 x60 x60 x119 x188 x231 x40 x40 x40 x231 x25 x8 x8 x36 x50 x225 x225 x225 x225 x82 x50 x127 x127 x229 x82 x8...</td>\n",
       "      <td>rock</td>\n",
       "      <td>0</td>\n",
       "    </tr>\n",
       "    <tr>\n",
       "      <th>287</th>\n",
       "      <td>rock.00088.wav</td>\n",
       "      <td>[25, 25, 25, 25, 246, 246, 32, 189, 189, 189, 171, 171, 171, 185, 171, 185, 230, 91, 91, 206, 189, 225, 225, 235, 225, 225, 85, 85, 189, 206, 4, 4, 230, 230, 230, 230, 230, 91, 91, 230, 230, 223, 15, 160, 149, 160, 160, 160, 199, 25, 169, 120, 85, 119, 119, 119, 174, 241, 241, 241, 246, 246, 241, 241, 241, 85, 82, 246, 246, 246, 246, 246, 241, 241, 241, 241, 82, 82, 50, 36, 235, 235, 235, 169, 169, 25, 25, 241, 241, 241, 241, 241, 25, 85, 85, 85, 85, 85, 85, 85, 85, 85, 82, 82, 82, 241, 25, 25, 120, 120, 85, 85, 85, 241, 241, 241, 241, 241, 241, 241, 241, 189, 189, 189, 171, 185, 185, 230,...</td>\n",
       "      <td>x25 x25 x25 x25 x246 x246 x32 x189 x189 x189 x171 x171 x171 x185 x171 x185 x230 x91 x91 x206 x189 x225 x225 x235 x225 x225 x85 x85 x189 x206 x4 x4 x230 x230 x230 x230 x230 x91 x91 x230 x230 x223 x15 x160 x149 x160 x160 x160 x199 x25 x169 x120 x85 x119 x119 x119 x174 x241 x241 x241 x246 x246 x241 x241 x241 x85 x82 x246 x246 x246 x246 x246 x241 x241 x241 x241 x82 x82 x50 x36 x235 x235 x235 x169 x169 x25 x25 x241 x241 x241 x241 x241 x25 x85 x85 x85 x85 x85 x85 x85 x85 x85 x82 x82 x82 x241 x25 x25 x120 x120 x85 x85 x85 x241 x241 x241 x241 x241 x241 x241 x241 x189 x189 x189 x171 x185 x185 x230 ...</td>\n",
       "      <td>rock</td>\n",
       "      <td>0</td>\n",
       "    </tr>\n",
       "    <tr>\n",
       "      <th>288</th>\n",
       "      <td>rock.00089.wav</td>\n",
       "      <td>[149, 149, 149, 149, 160, 176, 220, 88, 88, 220, 220, 220, 220, 171, 49, 49, 49, 49, 195, 188, 88, 220, 42, 166, 166, 166, 166, 166, 166, 176, 185, 252, 185, 185, 166, 166, 166, 166, 166, 166, 176, 185, 119, 169, 119, 119, 40, 40, 220, 49, 49, 49, 49, 49, 7, 7, 195, 220, 77, 77, 77, 77, 77, 166, 166, 1, 24, 60, 24, 220, 220, 220, 49, 49, 49, 49, 49, 49, 49, 49, 49, 166, 166, 166, 166, 166, 166, 166, 166, 119, 50, 225, 85, 206, 206, 185, 149, 149, 47, 133, 149, 42, 195, 195, 24, 164, 21, 238, 238, 171, 171, 171, 171, 202, 24, 195, 195, 42, 166, 166, 166, 150, 81, 16, 16, 88, 40, 40, 40, 7, ...</td>\n",
       "      <td>x149 x149 x149 x149 x160 x176 x220 x88 x88 x220 x220 x220 x220 x171 x49 x49 x49 x49 x195 x188 x88 x220 x42 x166 x166 x166 x166 x166 x166 x176 x185 x252 x185 x185 x166 x166 x166 x166 x166 x166 x176 x185 x119 x169 x119 x119 x40 x40 x220 x49 x49 x49 x49 x49 x7 x7 x195 x220 x77 x77 x77 x77 x77 x166 x166 x1 x24 x60 x24 x220 x220 x220 x49 x49 x49 x49 x49 x49 x49 x49 x49 x166 x166 x166 x166 x166 x166 x166 x166 x119 x50 x225 x85 x206 x206 x185 x149 x149 x47 x133 x149 x42 x195 x195 x24 x164 x21 x238 x238 x171 x171 x171 x171 x202 x24 x195 x195 x42 x166 x166 x166 x150 x81 x16 x16 x88 x40 x40 x40 x7 x...</td>\n",
       "      <td>rock</td>\n",
       "      <td>0</td>\n",
       "    </tr>\n",
       "    <tr>\n",
       "      <th>289</th>\n",
       "      <td>rock.00090.wav</td>\n",
       "      <td>[217, 217, 24, 119, 120, 120, 120, 70, 110, 110, 88, 220, 220, 220, 220, 220, 88, 54, 50, 25, 119, 119, 24, 24, 50, 50, 50, 50, 119, 88, 88, 220, 220, 42, 1, 150, 1, 231, 45, 235, 50, 50, 119, 119, 24, 119, 225, 169, 120, 70, 110, 88, 220, 220, 220, 220, 220, 220, 88, 119, 54, 54, 119, 119, 24, 24, 50, 50, 50, 50, 119, 88, 88, 206, 220, 81, 185, 150, 150, 33, 81, 16, 206, 206, 220, 81, 150, 195, 88, 88, 88, 88, 110, 110, 110, 110, 70, 110, 206, 206, 206, 206, 206, 206, 206, 91, 91, 91, 206, 85, 85, 13, 212, 78, 78, 206, 206, 206, 78, 78, 91, 91, 206, 212, 212, 212, 85, 85, 206, 206, 206, 2...</td>\n",
       "      <td>x217 x217 x24 x119 x120 x120 x120 x70 x110 x110 x88 x220 x220 x220 x220 x220 x88 x54 x50 x25 x119 x119 x24 x24 x50 x50 x50 x50 x119 x88 x88 x220 x220 x42 x1 x150 x1 x231 x45 x235 x50 x50 x119 x119 x24 x119 x225 x169 x120 x70 x110 x88 x220 x220 x220 x220 x220 x220 x88 x119 x54 x54 x119 x119 x24 x24 x50 x50 x50 x50 x119 x88 x88 x206 x220 x81 x185 x150 x150 x33 x81 x16 x206 x206 x220 x81 x150 x195 x88 x88 x88 x88 x110 x110 x110 x110 x70 x110 x206 x206 x206 x206 x206 x206 x206 x91 x91 x91 x206 x85 x85 x13 x212 x78 x78 x206 x206 x206 x78 x78 x91 x91 x206 x212 x212 x212 x85 x85 x206 x206 x206 x2...</td>\n",
       "      <td>rock</td>\n",
       "      <td>0</td>\n",
       "    </tr>\n",
       "  </tbody>\n",
       "</table>\n",
       "</div>"
      ],
      "text/plain": [
       "           audio_id  \\\n",
       "285  rock.00086.wav   \n",
       "286  rock.00087.wav   \n",
       "287  rock.00088.wav   \n",
       "288  rock.00089.wav   \n",
       "289  rock.00090.wav   \n",
       "\n",
       "                                                                                                                                                                                                                                                                                                                                                                                                                                                                                                                                                                                                            codeword_indices  \\\n",
       "285  [119, 119, 119, 119, 60, 60, 119, 119, 119, 119, 119, 85, 169, 169, 119, 119, 119, 65, 225, 225, 225, 82, 82, 82, 174, 174, 82, 174, 54, 174, 174, 25, 169, 25, 25, 25, 174, 174, 174, 82, 174, 169, 169, 25, 85, 146, 146, 85, 241, 241, 82, 82, 119, 119, 85, 85, 189, 241, 241, 40, 241, 82, 82, 82, 82, 246, 189, 189, 189, 189, 82, 169, 169, 243, 241, 241, 241, 241, 241, 241, 241, 82, 82, 82, 82, 82, 82, 82, 246, 85, 85, 82, 241, 199, 199, 189, 212, 212, 212, 85, 85, 241, 241, 241, 241, 241, 199, 241, 82, 169, 25, 241, 241, 199, 199, 199, 199, 199, 241, 82, 82, 241, 241, 199, 199, 199, 171, 171...   \n",
       "286  [146, 146, 146, 146, 146, 146, 109, 146, 65, 119, 119, 13, 13, 13, 13, 13, 85, 127, 127, 120, 120, 120, 119, 85, 85, 120, 169, 169, 163, 120, 85, 85, 85, 85, 13, 40, 50, 8, 8, 127, 65, 65, 119, 119, 119, 119, 119, 119, 229, 229, 119, 60, 24, 24, 24, 231, 60, 229, 229, 65, 119, 119, 188, 119, 119, 119, 119, 119, 119, 119, 188, 188, 188, 188, 119, 119, 50, 8, 36, 127, 65, 65, 119, 119, 119, 119, 25, 25, 119, 119, 119, 119, 119, 119, 119, 25, 229, 84, 120, 119, 188, 88, 80, 88, 231, 119, 60, 60, 119, 188, 231, 40, 40, 40, 231, 25, 8, 8, 36, 50, 225, 225, 225, 225, 82, 50, 127, 127, 229, 82, 8...   \n",
       "287  [25, 25, 25, 25, 246, 246, 32, 189, 189, 189, 171, 171, 171, 185, 171, 185, 230, 91, 91, 206, 189, 225, 225, 235, 225, 225, 85, 85, 189, 206, 4, 4, 230, 230, 230, 230, 230, 91, 91, 230, 230, 223, 15, 160, 149, 160, 160, 160, 199, 25, 169, 120, 85, 119, 119, 119, 174, 241, 241, 241, 246, 246, 241, 241, 241, 85, 82, 246, 246, 246, 246, 246, 241, 241, 241, 241, 82, 82, 50, 36, 235, 235, 235, 169, 169, 25, 25, 241, 241, 241, 241, 241, 25, 85, 85, 85, 85, 85, 85, 85, 85, 85, 82, 82, 82, 241, 25, 25, 120, 120, 85, 85, 85, 241, 241, 241, 241, 241, 241, 241, 241, 189, 189, 189, 171, 185, 185, 230,...   \n",
       "288  [149, 149, 149, 149, 160, 176, 220, 88, 88, 220, 220, 220, 220, 171, 49, 49, 49, 49, 195, 188, 88, 220, 42, 166, 166, 166, 166, 166, 166, 176, 185, 252, 185, 185, 166, 166, 166, 166, 166, 166, 176, 185, 119, 169, 119, 119, 40, 40, 220, 49, 49, 49, 49, 49, 7, 7, 195, 220, 77, 77, 77, 77, 77, 166, 166, 1, 24, 60, 24, 220, 220, 220, 49, 49, 49, 49, 49, 49, 49, 49, 49, 166, 166, 166, 166, 166, 166, 166, 166, 119, 50, 225, 85, 206, 206, 185, 149, 149, 47, 133, 149, 42, 195, 195, 24, 164, 21, 238, 238, 171, 171, 171, 171, 202, 24, 195, 195, 42, 166, 166, 166, 150, 81, 16, 16, 88, 40, 40, 40, 7, ...   \n",
       "289  [217, 217, 24, 119, 120, 120, 120, 70, 110, 110, 88, 220, 220, 220, 220, 220, 88, 54, 50, 25, 119, 119, 24, 24, 50, 50, 50, 50, 119, 88, 88, 220, 220, 42, 1, 150, 1, 231, 45, 235, 50, 50, 119, 119, 24, 119, 225, 169, 120, 70, 110, 88, 220, 220, 220, 220, 220, 220, 88, 119, 54, 54, 119, 119, 24, 24, 50, 50, 50, 50, 119, 88, 88, 206, 220, 81, 185, 150, 150, 33, 81, 16, 206, 206, 220, 81, 150, 195, 88, 88, 88, 88, 110, 110, 110, 110, 70, 110, 206, 206, 206, 206, 206, 206, 206, 91, 91, 91, 206, 85, 85, 13, 212, 78, 78, 206, 206, 206, 78, 78, 91, 91, 206, 212, 212, 212, 85, 85, 206, 206, 206, 2...   \n",
       "\n",
       "                                                                                                                                                                                                                                                                                                                                                                                                                                                                                                                                                                                                                   codewords  \\\n",
       "285  x119 x119 x119 x119 x60 x60 x119 x119 x119 x119 x119 x85 x169 x169 x119 x119 x119 x65 x225 x225 x225 x82 x82 x82 x174 x174 x82 x174 x54 x174 x174 x25 x169 x25 x25 x25 x174 x174 x174 x82 x174 x169 x169 x25 x85 x146 x146 x85 x241 x241 x82 x82 x119 x119 x85 x85 x189 x241 x241 x40 x241 x82 x82 x82 x82 x246 x189 x189 x189 x189 x82 x169 x169 x243 x241 x241 x241 x241 x241 x241 x241 x82 x82 x82 x82 x82 x82 x82 x246 x85 x85 x82 x241 x199 x199 x189 x212 x212 x212 x85 x85 x241 x241 x241 x241 x241 x199 x241 x82 x169 x25 x241 x241 x199 x199 x199 x199 x199 x241 x82 x82 x241 x241 x199 x199 x199 x171 x171...   \n",
       "286  x146 x146 x146 x146 x146 x146 x109 x146 x65 x119 x119 x13 x13 x13 x13 x13 x85 x127 x127 x120 x120 x120 x119 x85 x85 x120 x169 x169 x163 x120 x85 x85 x85 x85 x13 x40 x50 x8 x8 x127 x65 x65 x119 x119 x119 x119 x119 x119 x229 x229 x119 x60 x24 x24 x24 x231 x60 x229 x229 x65 x119 x119 x188 x119 x119 x119 x119 x119 x119 x119 x188 x188 x188 x188 x119 x119 x50 x8 x36 x127 x65 x65 x119 x119 x119 x119 x25 x25 x119 x119 x119 x119 x119 x119 x119 x25 x229 x84 x120 x119 x188 x88 x80 x88 x231 x119 x60 x60 x119 x188 x231 x40 x40 x40 x231 x25 x8 x8 x36 x50 x225 x225 x225 x225 x82 x50 x127 x127 x229 x82 x8...   \n",
       "287  x25 x25 x25 x25 x246 x246 x32 x189 x189 x189 x171 x171 x171 x185 x171 x185 x230 x91 x91 x206 x189 x225 x225 x235 x225 x225 x85 x85 x189 x206 x4 x4 x230 x230 x230 x230 x230 x91 x91 x230 x230 x223 x15 x160 x149 x160 x160 x160 x199 x25 x169 x120 x85 x119 x119 x119 x174 x241 x241 x241 x246 x246 x241 x241 x241 x85 x82 x246 x246 x246 x246 x246 x241 x241 x241 x241 x82 x82 x50 x36 x235 x235 x235 x169 x169 x25 x25 x241 x241 x241 x241 x241 x25 x85 x85 x85 x85 x85 x85 x85 x85 x85 x82 x82 x82 x241 x25 x25 x120 x120 x85 x85 x85 x241 x241 x241 x241 x241 x241 x241 x241 x189 x189 x189 x171 x185 x185 x230 ...   \n",
       "288  x149 x149 x149 x149 x160 x176 x220 x88 x88 x220 x220 x220 x220 x171 x49 x49 x49 x49 x195 x188 x88 x220 x42 x166 x166 x166 x166 x166 x166 x176 x185 x252 x185 x185 x166 x166 x166 x166 x166 x166 x176 x185 x119 x169 x119 x119 x40 x40 x220 x49 x49 x49 x49 x49 x7 x7 x195 x220 x77 x77 x77 x77 x77 x166 x166 x1 x24 x60 x24 x220 x220 x220 x49 x49 x49 x49 x49 x49 x49 x49 x49 x166 x166 x166 x166 x166 x166 x166 x166 x119 x50 x225 x85 x206 x206 x185 x149 x149 x47 x133 x149 x42 x195 x195 x24 x164 x21 x238 x238 x171 x171 x171 x171 x202 x24 x195 x195 x42 x166 x166 x166 x150 x81 x16 x16 x88 x40 x40 x40 x7 x...   \n",
       "289  x217 x217 x24 x119 x120 x120 x120 x70 x110 x110 x88 x220 x220 x220 x220 x220 x88 x54 x50 x25 x119 x119 x24 x24 x50 x50 x50 x50 x119 x88 x88 x220 x220 x42 x1 x150 x1 x231 x45 x235 x50 x50 x119 x119 x24 x119 x225 x169 x120 x70 x110 x88 x220 x220 x220 x220 x220 x220 x88 x119 x54 x54 x119 x119 x24 x24 x50 x50 x50 x50 x119 x88 x88 x206 x220 x81 x185 x150 x150 x33 x81 x16 x206 x206 x220 x81 x150 x195 x88 x88 x88 x88 x110 x110 x110 x110 x70 x110 x206 x206 x206 x206 x206 x206 x206 x91 x91 x91 x206 x85 x85 x13 x212 x78 x78 x206 x206 x206 x78 x78 x91 x91 x206 x212 x212 x212 x85 x85 x206 x206 x206 x2...   \n",
       "\n",
       "    genre  is_valid  \n",
       "285  rock         0  \n",
       "286  rock         0  \n",
       "287  rock         0  \n",
       "288  rock         0  \n",
       "289  rock         0  "
      ]
     },
     "execution_count": 39,
     "metadata": {},
     "output_type": "execute_result"
    }
   ],
   "source": [
    "test_df.tail()"
   ]
  },
  {
   "cell_type": "code",
   "execution_count": 41,
   "metadata": {},
   "outputs": [
    {
     "data": {
      "text/html": [],
      "text/plain": [
       "<IPython.core.display.HTML object>"
      ]
     },
     "metadata": {},
     "output_type": "display_data"
    },
    {
     "data": {
      "text/plain": [
       "'jazz'"
      ]
     },
     "execution_count": 41,
     "metadata": {},
     "output_type": "execute_result"
    }
   ],
   "source": [
    "genre_learner.predict(test_df['codewords'][0])[0]"
   ]
  },
  {
   "cell_type": "code",
   "execution_count": 38,
   "metadata": {},
   "outputs": [
    {
     "data": {
      "text/plain": [
       "'blues'"
      ]
     },
     "execution_count": 38,
     "metadata": {},
     "output_type": "execute_result"
    }
   ],
   "source": [
    "test_df['genre'][0]"
   ]
  },
  {
   "cell_type": "code",
   "execution_count": 34,
   "metadata": {},
   "outputs": [],
   "source": [
    "# test_df['codewords'][0]"
   ]
  },
  {
   "cell_type": "code",
   "execution_count": 52,
   "metadata": {},
   "outputs": [],
   "source": [
    "num_accu = 0\n",
    "\n",
    "for i in range(len(test_df)):\n",
    "    pred = genre_learner.predict(test_df['codewords'][i])\n",
    "    if test_df['genre'][i] == pred:\n",
    "        num_accu += 1"
   ]
  },
  {
   "cell_type": "code",
   "execution_count": null,
   "metadata": {},
   "outputs": [],
   "source": []
  }
 ],
 "metadata": {
  "kernelspec": {
   "display_name": "Python 3",
   "language": "python",
   "name": "python3"
  },
  "language_info": {
   "codemirror_mode": {
    "name": "ipython",
    "version": 3
   },
   "file_extension": ".py",
   "mimetype": "text/x-python",
   "name": "python",
   "nbconvert_exporter": "python",
   "pygments_lexer": "ipython3",
   "version": "3.8.5"
  }
 },
 "nbformat": 4,
 "nbformat_minor": 4
}
